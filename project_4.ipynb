{
 "cells": [
  {
   "cell_type": "markdown",
   "id": "9ddc0738-c460-48d7-8f6b-6f79ba90b2bf",
   "metadata": {},
   "source": [
    "# Определение перспективного тарифа для телеком-компании"
   ]
  },
  {
   "cell_type": "code",
   "execution_count": 2,
   "id": "022695f8-0a39-449d-a6ed-0c839a0da5a7",
   "metadata": {},
   "outputs": [],
   "source": [
    "import pandas as pd\n",
    "import numpy as np\n",
    "import math\n",
    "import matplotlib as plt\n",
    "from scipy import stats as st"
   ]
  },
  {
   "cell_type": "code",
   "execution_count": 3,
   "id": "54d711fd-e6b6-4e45-912f-a8322e69c0fa",
   "metadata": {},
   "outputs": [],
   "source": [
    "calls = pd.read_csv('Project_files/Project_4/calls.csv')\n",
    "internet = pd.read_csv('Project_files/Project_4/internet.csv')\n",
    "tariffs = pd.read_csv('Project_files/Project_4/tariffs.csv')\n",
    "users = pd.read_csv('Project_files/Project_4/users.csv')\n",
    "messages = pd.read_csv('Project_files/Project_4/messages.csv')"
   ]
  },
  {
   "cell_type": "markdown",
   "id": "1d0e7993-d59e-4259-8323-c362d95c571a",
   "metadata": {},
   "source": [
    "# Предобработка данных"
   ]
  },
  {
   "cell_type": "markdown",
   "id": "7d5a05a5-0b24-47d8-a68b-4fc9ca3871b0",
   "metadata": {},
   "source": [
    "#### Предобратка данных в таблице calls"
   ]
  },
  {
   "cell_type": "code",
   "execution_count": 4,
   "id": "3d026f2a-5b84-450a-9856-43710b0bdd2c",
   "metadata": {},
   "outputs": [
    {
     "name": "stdout",
     "output_type": "stream",
     "text": [
      "<class 'pandas.core.frame.DataFrame'>\n",
      "RangeIndex: 202607 entries, 0 to 202606\n",
      "Data columns (total 4 columns):\n",
      " #   Column     Non-Null Count   Dtype  \n",
      "---  ------     --------------   -----  \n",
      " 0   id         202607 non-null  object \n",
      " 1   call_date  202607 non-null  object \n",
      " 2   duration   202607 non-null  float64\n",
      " 3   user_id    202607 non-null  int64  \n",
      "dtypes: float64(1), int64(1), object(2)\n",
      "memory usage: 6.2+ MB\n"
     ]
    }
   ],
   "source": [
    "calls.info()"
   ]
  },
  {
   "cell_type": "markdown",
   "id": "18b550d7-2a8b-41fd-b104-ec766b4e59e9",
   "metadata": {},
   "source": [
    "Видно, что в таблице нет пропущенных значений. Необходимо перевести колонку `call_date` в формат datetime, а также дополнительно изучить данные в колонке `duration`\r\n",
    "\r\n",
    "Также, для дальнейших расчетов, округлим минуты в колонке `duration` до ближайшего положительного числа, затем переведем тип колонки в int"
   ]
  },
  {
   "cell_type": "code",
   "execution_count": 5,
   "id": "a213f695-00f6-4275-9c6a-9a675c5ac634",
   "metadata": {},
   "outputs": [
    {
     "data": {
      "text/html": [
       "<div>\n",
       "<style scoped>\n",
       "    .dataframe tbody tr th:only-of-type {\n",
       "        vertical-align: middle;\n",
       "    }\n",
       "\n",
       "    .dataframe tbody tr th {\n",
       "        vertical-align: top;\n",
       "    }\n",
       "\n",
       "    .dataframe thead th {\n",
       "        text-align: right;\n",
       "    }\n",
       "</style>\n",
       "<table border=\"1\" class=\"dataframe\">\n",
       "  <thead>\n",
       "    <tr style=\"text-align: right;\">\n",
       "      <th></th>\n",
       "      <th>id</th>\n",
       "      <th>call_date</th>\n",
       "      <th>duration</th>\n",
       "      <th>user_id</th>\n",
       "      <th>month</th>\n",
       "    </tr>\n",
       "  </thead>\n",
       "  <tbody>\n",
       "    <tr>\n",
       "      <th>0</th>\n",
       "      <td>1000_0</td>\n",
       "      <td>2018-07-25</td>\n",
       "      <td>0.0</td>\n",
       "      <td>1000</td>\n",
       "      <td>7</td>\n",
       "    </tr>\n",
       "    <tr>\n",
       "      <th>1</th>\n",
       "      <td>1000_1</td>\n",
       "      <td>2018-08-17</td>\n",
       "      <td>0.0</td>\n",
       "      <td>1000</td>\n",
       "      <td>8</td>\n",
       "    </tr>\n",
       "    <tr>\n",
       "      <th>2</th>\n",
       "      <td>1000_2</td>\n",
       "      <td>2018-06-11</td>\n",
       "      <td>3.0</td>\n",
       "      <td>1000</td>\n",
       "      <td>6</td>\n",
       "    </tr>\n",
       "    <tr>\n",
       "      <th>3</th>\n",
       "      <td>1000_3</td>\n",
       "      <td>2018-09-21</td>\n",
       "      <td>14.0</td>\n",
       "      <td>1000</td>\n",
       "      <td>9</td>\n",
       "    </tr>\n",
       "    <tr>\n",
       "      <th>4</th>\n",
       "      <td>1000_4</td>\n",
       "      <td>2018-12-15</td>\n",
       "      <td>6.0</td>\n",
       "      <td>1000</td>\n",
       "      <td>12</td>\n",
       "    </tr>\n",
       "  </tbody>\n",
       "</table>\n",
       "</div>"
      ],
      "text/plain": [
       "       id  call_date  duration  user_id  month\n",
       "0  1000_0 2018-07-25       0.0     1000      7\n",
       "1  1000_1 2018-08-17       0.0     1000      8\n",
       "2  1000_2 2018-06-11       3.0     1000      6\n",
       "3  1000_3 2018-09-21      14.0     1000      9\n",
       "4  1000_4 2018-12-15       6.0     1000     12"
      ]
     },
     "execution_count": 5,
     "metadata": {},
     "output_type": "execute_result"
    }
   ],
   "source": [
    "calls['call_date'] = pd.to_datetime(calls['call_date'], format = '%Y-%m-%d')\n",
    "calls['month'] = calls['call_date'].dt.month\n",
    "calls['duration'] = np.ceil(calls['duration']) \n",
    "calls.head()"
   ]
  },
  {
   "cell_type": "code",
   "execution_count": 6,
   "id": "5c008bb5-0e43-4d26-a29a-799aa178c8a7",
   "metadata": {},
   "outputs": [
    {
     "data": {
      "text/plain": [
       "count    202607.000000\n",
       "mean          7.158198\n",
       "std           5.959173\n",
       "min           0.000000\n",
       "25%           2.000000\n",
       "50%           6.000000\n",
       "75%          11.000000\n",
       "max          38.000000\n",
       "Name: duration, dtype: float64"
      ]
     },
     "execution_count": 6,
     "metadata": {},
     "output_type": "execute_result"
    },
    {
     "data": {
      "image/png": "[encoded data removed]",
      "text/plain": [
       "<Figure size 640x480 with 1 Axes>"
      ]
     },
     "metadata": {},
     "output_type": "display_data"
    }
   ],
   "source": [
    "calls['duration'].hist()\n",
    "calls['duration'].describe()"
   ]
  },
  {
   "cell_type": "markdown",
   "id": "22e2a89d-bc01-4043-acd3-848a1817a650",
   "metadata": {},
   "source": [
    "Значения в колнке `duration` не вызывают вопросов. Максимальная длительность звонка - 38 минут, минимальная длительность звонка - 0 минут - данные звонки соответвуют пропущенным."
   ]
  },
  {
   "cell_type": "markdown",
   "id": "70a0dbc0-5c71-4195-93a6-02160541f306",
   "metadata": {},
   "source": [
    "#### Предобработка данных в таблице internet"
   ]
  },
  {
   "cell_type": "code",
   "execution_count": 7,
   "id": "3d4f8d59-affe-4445-b632-52e7a0c6f3ba",
   "metadata": {},
   "outputs": [
    {
     "name": "stdout",
     "output_type": "stream",
     "text": [
      "<class 'pandas.core.frame.DataFrame'>\n",
      "RangeIndex: 149396 entries, 0 to 149395\n",
      "Data columns (total 5 columns):\n",
      " #   Column        Non-Null Count   Dtype  \n",
      "---  ------        --------------   -----  \n",
      " 0   Unnamed: 0    149396 non-null  int64  \n",
      " 1   id            149396 non-null  object \n",
      " 2   mb_used       149396 non-null  float64\n",
      " 3   session_date  149396 non-null  object \n",
      " 4   user_id       149396 non-null  int64  \n",
      "dtypes: float64(1), int64(2), object(2)\n",
      "memory usage: 5.7+ MB\n"
     ]
    }
   ],
   "source": [
    "internet.info()"
   ]
  },
  {
   "cell_type": "markdown",
   "id": "54de4aca-e14a-4dbf-a011-8a603c9009c5",
   "metadata": {},
   "source": [
    "Исходя из данных метода info можем увидеть: \n",
    "1. Наличие колонки unnamed - изучим ее подробнее \n",
    "2. Необходимо привести значения в колонке `session_date` к типу datetime\n",
    "3. Исследовать дополнительно значения в колонке `mb_used`. (Округлять значения на данном этапе нет необходимости, так как по правилам оператора округление производится по всем сессиям юзера суммарно за месяц. "
   ]
  },
  {
   "cell_type": "code",
   "execution_count": 8,
   "id": "6ef28a0d-5ad3-456b-aaaa-520787c5bfee",
   "metadata": {},
   "outputs": [
    {
     "data": {
      "text/html": [
       "<div>\n",
       "<style scoped>\n",
       "    .dataframe tbody tr th:only-of-type {\n",
       "        vertical-align: middle;\n",
       "    }\n",
       "\n",
       "    .dataframe tbody tr th {\n",
       "        vertical-align: top;\n",
       "    }\n",
       "\n",
       "    .dataframe thead th {\n",
       "        text-align: right;\n",
       "    }\n",
       "</style>\n",
       "<table border=\"1\" class=\"dataframe\">\n",
       "  <thead>\n",
       "    <tr style=\"text-align: right;\">\n",
       "      <th></th>\n",
       "      <th>Unnamed: 0</th>\n",
       "      <th>id</th>\n",
       "      <th>mb_used</th>\n",
       "      <th>session_date</th>\n",
       "      <th>user_id</th>\n",
       "    </tr>\n",
       "  </thead>\n",
       "  <tbody>\n",
       "    <tr>\n",
       "      <th>149391</th>\n",
       "      <td>149391</td>\n",
       "      <td>1499_152</td>\n",
       "      <td>318.90</td>\n",
       "      <td>2018-10-03</td>\n",
       "      <td>1499</td>\n",
       "    </tr>\n",
       "    <tr>\n",
       "      <th>149392</th>\n",
       "      <td>149392</td>\n",
       "      <td>1499_153</td>\n",
       "      <td>490.13</td>\n",
       "      <td>2018-12-14</td>\n",
       "      <td>1499</td>\n",
       "    </tr>\n",
       "    <tr>\n",
       "      <th>149393</th>\n",
       "      <td>149393</td>\n",
       "      <td>1499_154</td>\n",
       "      <td>0.00</td>\n",
       "      <td>2018-10-27</td>\n",
       "      <td>1499</td>\n",
       "    </tr>\n",
       "    <tr>\n",
       "      <th>149394</th>\n",
       "      <td>149394</td>\n",
       "      <td>1499_155</td>\n",
       "      <td>1246.32</td>\n",
       "      <td>2018-11-26</td>\n",
       "      <td>1499</td>\n",
       "    </tr>\n",
       "    <tr>\n",
       "      <th>149395</th>\n",
       "      <td>149395</td>\n",
       "      <td>1499_156</td>\n",
       "      <td>544.37</td>\n",
       "      <td>2018-10-26</td>\n",
       "      <td>1499</td>\n",
       "    </tr>\n",
       "  </tbody>\n",
       "</table>\n",
       "</div>"
      ],
      "text/plain": [
       "        Unnamed: 0        id  mb_used session_date  user_id\n",
       "149391      149391  1499_152   318.90   2018-10-03     1499\n",
       "149392      149392  1499_153   490.13   2018-12-14     1499\n",
       "149393      149393  1499_154     0.00   2018-10-27     1499\n",
       "149394      149394  1499_155  1246.32   2018-11-26     1499\n",
       "149395      149395  1499_156   544.37   2018-10-26     1499"
      ]
     },
     "execution_count": 8,
     "metadata": {},
     "output_type": "execute_result"
    }
   ],
   "source": [
    "internet.tail()"
   ]
  },
  {
   "cell_type": "code",
   "execution_count": 9,
   "id": "e792b849-079b-4586-8a17-4ba1a7cf7c49",
   "metadata": {},
   "outputs": [
    {
     "data": {
      "text/html": [
       "<div>\n",
       "<style scoped>\n",
       "    .dataframe tbody tr th:only-of-type {\n",
       "        vertical-align: middle;\n",
       "    }\n",
       "\n",
       "    .dataframe tbody tr th {\n",
       "        vertical-align: top;\n",
       "    }\n",
       "\n",
       "    .dataframe thead th {\n",
       "        text-align: right;\n",
       "    }\n",
       "</style>\n",
       "<table border=\"1\" class=\"dataframe\">\n",
       "  <thead>\n",
       "    <tr style=\"text-align: right;\">\n",
       "      <th></th>\n",
       "      <th>id</th>\n",
       "      <th>mb_used</th>\n",
       "      <th>session_date</th>\n",
       "      <th>user_id</th>\n",
       "    </tr>\n",
       "  </thead>\n",
       "  <tbody>\n",
       "    <tr>\n",
       "      <th>0</th>\n",
       "      <td>1000_0</td>\n",
       "      <td>112.95</td>\n",
       "      <td>2018-11-25</td>\n",
       "      <td>1000</td>\n",
       "    </tr>\n",
       "    <tr>\n",
       "      <th>1</th>\n",
       "      <td>1000_1</td>\n",
       "      <td>1052.81</td>\n",
       "      <td>2018-09-07</td>\n",
       "      <td>1000</td>\n",
       "    </tr>\n",
       "    <tr>\n",
       "      <th>2</th>\n",
       "      <td>1000_2</td>\n",
       "      <td>1197.26</td>\n",
       "      <td>2018-06-25</td>\n",
       "      <td>1000</td>\n",
       "    </tr>\n",
       "    <tr>\n",
       "      <th>3</th>\n",
       "      <td>1000_3</td>\n",
       "      <td>550.27</td>\n",
       "      <td>2018-08-22</td>\n",
       "      <td>1000</td>\n",
       "    </tr>\n",
       "    <tr>\n",
       "      <th>4</th>\n",
       "      <td>1000_4</td>\n",
       "      <td>302.56</td>\n",
       "      <td>2018-09-24</td>\n",
       "      <td>1000</td>\n",
       "    </tr>\n",
       "  </tbody>\n",
       "</table>\n",
       "</div>"
      ],
      "text/plain": [
       "       id  mb_used session_date  user_id\n",
       "0  1000_0   112.95   2018-11-25     1000\n",
       "1  1000_1  1052.81   2018-09-07     1000\n",
       "2  1000_2  1197.26   2018-06-25     1000\n",
       "3  1000_3   550.27   2018-08-22     1000\n",
       "4  1000_4   302.56   2018-09-24     1000"
      ]
     },
     "execution_count": 9,
     "metadata": {},
     "output_type": "execute_result"
    }
   ],
   "source": [
    "internet = internet.drop(columns = 'Unnamed: 0')\n",
    "internet.head()"
   ]
  },
  {
   "cell_type": "code",
   "execution_count": 10,
   "id": "eed0e759-5c42-4573-99da-1a5f2f46e3bd",
   "metadata": {},
   "outputs": [
    {
     "name": "stdout",
     "output_type": "stream",
     "text": [
      "<class 'pandas.core.frame.DataFrame'>\n",
      "RangeIndex: 149396 entries, 0 to 149395\n",
      "Data columns (total 5 columns):\n",
      " #   Column        Non-Null Count   Dtype         \n",
      "---  ------        --------------   -----         \n",
      " 0   id            149396 non-null  object        \n",
      " 1   mb_used       149396 non-null  float64       \n",
      " 2   session_date  149396 non-null  datetime64[ns]\n",
      " 3   user_id       149396 non-null  int64         \n",
      " 4   month         149396 non-null  int32         \n",
      "dtypes: datetime64[ns](1), float64(1), int32(1), int64(1), object(1)\n",
      "memory usage: 5.1+ MB\n"
     ]
    }
   ],
   "source": [
    "internet['session_date'] = pd.to_datetime(internet['session_date'],format = '%Y-%m-%d')\n",
    "internet['month'] = internet['session_date'].dt.month\n",
    "internet.info()"
   ]
  },
  {
   "cell_type": "code",
   "execution_count": 11,
   "id": "57ef2f07-8e59-4032-9b56-fd2f62332e92",
   "metadata": {},
   "outputs": [
    {
     "name": "stdout",
     "output_type": "stream",
     "text": [
      "19598\n"
     ]
    },
    {
     "data": {
      "text/plain": [
       "count    149396.000000\n",
       "mean        370.192426\n",
       "std         278.300951\n",
       "min           0.000000\n",
       "25%         138.187500\n",
       "50%         348.015000\n",
       "75%         559.552500\n",
       "max        1724.830000\n",
       "Name: mb_used, dtype: float64"
      ]
     },
     "execution_count": 11,
     "metadata": {},
     "output_type": "execute_result"
    },
    {
     "data": {
      "image/png": "[encoded data removed]",
      "text/plain": [
       "<Figure size 640x480 with 1 Axes>"
      ]
     },
     "metadata": {},
     "output_type": "display_data"
    }
   ],
   "source": [
    "internet['mb_used'].hist()\n",
    "print (len(internet[internet['mb_used'] == 0]))\n",
    "internet['mb_used'].describe()"
   ]
  },
  {
   "cell_type": "markdown",
   "id": "ab492a7f-f139-4af0-b166-95160d9ffaed",
   "metadata": {},
   "source": [
    "Из данных таблицы видно, что существуют сессии с нулевым количеством использования мб интернета, таких записей приблизительно 13 % от общего количества. Возможно, это случай, когда включена передача данных на мобильном устройстве, при условии, что нет фоновых приложений, потребляющих траффик. Учитывая, что такие сессии не изменят размер выручки при расчете итоговой выручки по тарифу, а также то, что мы не анализируем общее количество сессий подключения, удалим строки с нулевыми значениями для облегчения датафрейма."
   ]
  },
  {
   "cell_type": "code",
   "execution_count": 12,
   "id": "eb7739d8-0dd9-44e9-87a3-0b22552330ca",
   "metadata": {},
   "outputs": [
    {
     "name": "stdout",
     "output_type": "stream",
     "text": [
      "<class 'pandas.core.frame.DataFrame'>\n",
      "Index: 129798 entries, 0 to 149395\n",
      "Data columns (total 5 columns):\n",
      " #   Column        Non-Null Count   Dtype         \n",
      "---  ------        --------------   -----         \n",
      " 0   id            129798 non-null  object        \n",
      " 1   mb_used       129798 non-null  float64       \n",
      " 2   session_date  129798 non-null  datetime64[ns]\n",
      " 3   user_id       129798 non-null  int64         \n",
      " 4   month         129798 non-null  int32         \n",
      "dtypes: datetime64[ns](1), float64(1), int32(1), int64(1), object(1)\n",
      "memory usage: 5.4+ MB\n"
     ]
    }
   ],
   "source": [
    "internet = internet.query('mb_used!=0')\n",
    "internet.info()"
   ]
  },
  {
   "cell_type": "markdown",
   "id": "491c671d-9a91-4994-8467-a34bd377a731",
   "metadata": {},
   "source": [
    "#### Предобработка данных в таблице tariffs"
   ]
  },
  {
   "cell_type": "code",
   "execution_count": 13,
   "id": "c2359625-1e73-4504-8e7e-2045e3a8a576",
   "metadata": {},
   "outputs": [
    {
     "name": "stdout",
     "output_type": "stream",
     "text": [
      "<class 'pandas.core.frame.DataFrame'>\n",
      "RangeIndex: 2 entries, 0 to 1\n",
      "Data columns (total 8 columns):\n",
      " #   Column                 Non-Null Count  Dtype \n",
      "---  ------                 --------------  ----- \n",
      " 0   messages_included      2 non-null      int64 \n",
      " 1   mb_per_month_included  2 non-null      int64 \n",
      " 2   minutes_included       2 non-null      int64 \n",
      " 3   rub_monthly_fee        2 non-null      int64 \n",
      " 4   rub_per_gb             2 non-null      int64 \n",
      " 5   rub_per_message        2 non-null      int64 \n",
      " 6   rub_per_minute         2 non-null      int64 \n",
      " 7   tariff_name            2 non-null      object\n",
      "dtypes: int64(7), object(1)\n",
      "memory usage: 260.0+ bytes\n"
     ]
    }
   ],
   "source": [
    "tariffs.info()"
   ]
  },
  {
   "cell_type": "code",
   "execution_count": 14,
   "id": "5d27be05-475e-408e-9fe9-7fbcbcd0f30e",
   "metadata": {},
   "outputs": [
    {
     "data": {
      "text/html": [
       "<div>\n",
       "<style scoped>\n",
       "    .dataframe tbody tr th:only-of-type {\n",
       "        vertical-align: middle;\n",
       "    }\n",
       "\n",
       "    .dataframe tbody tr th {\n",
       "        vertical-align: top;\n",
       "    }\n",
       "\n",
       "    .dataframe thead th {\n",
       "        text-align: right;\n",
       "    }\n",
       "</style>\n",
       "<table border=\"1\" class=\"dataframe\">\n",
       "  <thead>\n",
       "    <tr style=\"text-align: right;\">\n",
       "      <th></th>\n",
       "      <th>messages_included</th>\n",
       "      <th>mb_per_month_included</th>\n",
       "      <th>minutes_included</th>\n",
       "      <th>rub_monthly_fee</th>\n",
       "      <th>rub_per_gb</th>\n",
       "      <th>rub_per_message</th>\n",
       "      <th>rub_per_minute</th>\n",
       "      <th>tariff_name</th>\n",
       "    </tr>\n",
       "  </thead>\n",
       "  <tbody>\n",
       "    <tr>\n",
       "      <th>0</th>\n",
       "      <td>50</td>\n",
       "      <td>15360</td>\n",
       "      <td>500</td>\n",
       "      <td>550</td>\n",
       "      <td>200</td>\n",
       "      <td>3</td>\n",
       "      <td>3</td>\n",
       "      <td>smart</td>\n",
       "    </tr>\n",
       "    <tr>\n",
       "      <th>1</th>\n",
       "      <td>1000</td>\n",
       "      <td>30720</td>\n",
       "      <td>3000</td>\n",
       "      <td>1950</td>\n",
       "      <td>150</td>\n",
       "      <td>1</td>\n",
       "      <td>1</td>\n",
       "      <td>ultra</td>\n",
       "    </tr>\n",
       "  </tbody>\n",
       "</table>\n",
       "</div>"
      ],
      "text/plain": [
       "   messages_included  mb_per_month_included  minutes_included  \\\n",
       "0                 50                  15360               500   \n",
       "1               1000                  30720              3000   \n",
       "\n",
       "   rub_monthly_fee  rub_per_gb  rub_per_message  rub_per_minute tariff_name  \n",
       "0              550         200                3               3       smart  \n",
       "1             1950         150                1               1       ultra  "
      ]
     },
     "execution_count": 14,
     "metadata": {},
     "output_type": "execute_result"
    }
   ],
   "source": [
    "tariffs"
   ]
  },
  {
   "cell_type": "markdown",
   "id": "de6c31f6-07bc-49b7-9fb5-b5c318c8e382",
   "metadata": {},
   "source": [
    "В описаниях тарифов указано количество включенных мб в пакет, а расчет стоимости тарифа ведется на основании гб. Необходимо перевести значения в колонке `mb_per_month_included` в гб (в 1 гб 1024 мб), а также переименуем саму колонку в `gb_per_month_included`"
   ]
  },
  {
   "cell_type": "code",
   "execution_count": 15,
   "id": "9f9f81b5-b05a-4652-81c0-fd77ac7e7613",
   "metadata": {},
   "outputs": [],
   "source": [
    "tariffs['mb_per_month_included'] = (tariffs['mb_per_month_included']/1024).astype('int')\n",
    "tariffs = tariffs.rename(columns = {'mb_per_month_included':'gb_per_month_included'})"
   ]
  },
  {
   "cell_type": "code",
   "execution_count": 16,
   "id": "8f254d5c-3d5b-45e3-ad66-d873bcb3e2c5",
   "metadata": {},
   "outputs": [
    {
     "data": {
      "text/html": [
       "<div>\n",
       "<style scoped>\n",
       "    .dataframe tbody tr th:only-of-type {\n",
       "        vertical-align: middle;\n",
       "    }\n",
       "\n",
       "    .dataframe tbody tr th {\n",
       "        vertical-align: top;\n",
       "    }\n",
       "\n",
       "    .dataframe thead th {\n",
       "        text-align: right;\n",
       "    }\n",
       "</style>\n",
       "<table border=\"1\" class=\"dataframe\">\n",
       "  <thead>\n",
       "    <tr style=\"text-align: right;\">\n",
       "      <th></th>\n",
       "      <th>messages_included</th>\n",
       "      <th>gb_per_month_included</th>\n",
       "      <th>minutes_included</th>\n",
       "      <th>rub_monthly_fee</th>\n",
       "      <th>rub_per_gb</th>\n",
       "      <th>rub_per_message</th>\n",
       "      <th>rub_per_minute</th>\n",
       "      <th>tariff_name</th>\n",
       "    </tr>\n",
       "  </thead>\n",
       "  <tbody>\n",
       "    <tr>\n",
       "      <th>0</th>\n",
       "      <td>50</td>\n",
       "      <td>15</td>\n",
       "      <td>500</td>\n",
       "      <td>550</td>\n",
       "      <td>200</td>\n",
       "      <td>3</td>\n",
       "      <td>3</td>\n",
       "      <td>smart</td>\n",
       "    </tr>\n",
       "    <tr>\n",
       "      <th>1</th>\n",
       "      <td>1000</td>\n",
       "      <td>30</td>\n",
       "      <td>3000</td>\n",
       "      <td>1950</td>\n",
       "      <td>150</td>\n",
       "      <td>1</td>\n",
       "      <td>1</td>\n",
       "      <td>ultra</td>\n",
       "    </tr>\n",
       "  </tbody>\n",
       "</table>\n",
       "</div>"
      ],
      "text/plain": [
       "   messages_included  gb_per_month_included  minutes_included  \\\n",
       "0                 50                     15               500   \n",
       "1               1000                     30              3000   \n",
       "\n",
       "   rub_monthly_fee  rub_per_gb  rub_per_message  rub_per_minute tariff_name  \n",
       "0              550         200                3               3       smart  \n",
       "1             1950         150                1               1       ultra  "
      ]
     },
     "execution_count": 16,
     "metadata": {},
     "output_type": "execute_result"
    }
   ],
   "source": [
    "tariffs"
   ]
  },
  {
   "cell_type": "markdown",
   "id": "a40474c5-3c9f-4c4f-9308-3f1e73c6446e",
   "metadata": {},
   "source": [
    "#### Предобработка данных в таблице users\r\n"
   ]
  },
  {
   "cell_type": "code",
   "execution_count": 17,
   "id": "d05d5af8-0297-467d-b11b-e27dad8f6df4",
   "metadata": {},
   "outputs": [
    {
     "name": "stdout",
     "output_type": "stream",
     "text": [
      "<class 'pandas.core.frame.DataFrame'>\n",
      "RangeIndex: 500 entries, 0 to 499\n",
      "Data columns (total 8 columns):\n",
      " #   Column      Non-Null Count  Dtype \n",
      "---  ------      --------------  ----- \n",
      " 0   user_id     500 non-null    int64 \n",
      " 1   age         500 non-null    int64 \n",
      " 2   churn_date  38 non-null     object\n",
      " 3   city        500 non-null    object\n",
      " 4   first_name  500 non-null    object\n",
      " 5   last_name   500 non-null    object\n",
      " 6   reg_date    500 non-null    object\n",
      " 7   tariff      500 non-null    object\n",
      "dtypes: int64(2), object(6)\n",
      "memory usage: 31.4+ KB\n"
     ]
    }
   ],
   "source": [
    "users.info()"
   ]
  },
  {
   "cell_type": "markdown",
   "id": "05b03279-60ba-490a-8592-b626b66fc95f",
   "metadata": {},
   "source": [
    "Видно, что в таблице представлены данные по 500 клиентам компании. \r\n",
    "Доработаем данные в таблице: \r\n",
    "1. Значения в колонке `churn_date` приведем к типу datetime, также, создадим колонку `is_active` с типом bool (1, если пакет еще активен, 0, если нет) \r\n",
    "2. Значения в колонке `reg_date` приведем к типу datetime\r\n",
    "3. Изучим дополнительно значения в колонках `user_id`, `age`, `city`, `tariff`, а также дедуплицируем имеющиеся данные. "
   ]
  },
  {
   "cell_type": "code",
   "execution_count": 18,
   "id": "037ad2dd-98b7-49ef-8186-1f1dbde86d71",
   "metadata": {},
   "outputs": [
    {
     "name": "stdout",
     "output_type": "stream",
     "text": [
      "<class 'pandas.core.frame.DataFrame'>\n",
      "RangeIndex: 500 entries, 0 to 499\n",
      "Data columns (total 9 columns):\n",
      " #   Column      Non-Null Count  Dtype         \n",
      "---  ------      --------------  -----         \n",
      " 0   user_id     500 non-null    int64         \n",
      " 1   age         500 non-null    int64         \n",
      " 2   churn_date  38 non-null     datetime64[ns]\n",
      " 3   city        500 non-null    object        \n",
      " 4   first_name  500 non-null    object        \n",
      " 5   last_name   500 non-null    object        \n",
      " 6   reg_date    500 non-null    object        \n",
      " 7   tariff      500 non-null    object        \n",
      " 8   is_active   500 non-null    bool          \n",
      "dtypes: bool(1), datetime64[ns](1), int64(2), object(5)\n",
      "memory usage: 31.9+ KB\n"
     ]
    }
   ],
   "source": [
    "users['churn_date'] = pd.to_datetime(users['churn_date'], format = '%Y-%m-%d', errors = 'coerce')\n",
    "users['is_active'] = users['churn_date'].isnull()\n",
    "\n",
    "users.info()"
   ]
  },
  {
   "cell_type": "code",
   "execution_count": 19,
   "id": "1440b1c9-3eb8-464b-b55d-2bcb6d6ea026",
   "metadata": {},
   "outputs": [],
   "source": [
    "users['reg_date'] = pd.to_datetime(users['reg_date'], format = '%Y-%m-%d')"
   ]
  },
  {
   "cell_type": "code",
   "execution_count": 20,
   "id": "6d0c7f8b-7a19-4803-9887-372efd6f4da4",
   "metadata": {},
   "outputs": [
    {
     "data": {
      "text/plain": [
       "user_id\n",
       "1000    1\n",
       "1329    1\n",
       "1342    1\n",
       "1341    1\n",
       "1340    1\n",
       "       ..\n",
       "1161    1\n",
       "1160    1\n",
       "1159    1\n",
       "1158    1\n",
       "1499    1\n",
       "Name: count, Length: 500, dtype: int64"
      ]
     },
     "execution_count": 20,
     "metadata": {},
     "output_type": "execute_result"
    }
   ],
   "source": [
    "users['user_id'].value_counts()"
   ]
  },
  {
   "cell_type": "code",
   "execution_count": 21,
   "id": "dacb3aa9-486a-4dd4-8971-863fe3d926f7",
   "metadata": {},
   "outputs": [
    {
     "data": {
      "text/plain": [
       "count    500.00000\n",
       "mean      46.58800\n",
       "std       16.66763\n",
       "min       18.00000\n",
       "25%       32.00000\n",
       "50%       46.00000\n",
       "75%       62.00000\n",
       "max       75.00000\n",
       "Name: age, dtype: float64"
      ]
     },
     "execution_count": 21,
     "metadata": {},
     "output_type": "execute_result"
    },
    {
     "data": {
      "image/png": "[encoded data removed]",
      "text/plain": [
       "<Figure size 640x480 with 1 Axes>"
      ]
     },
     "metadata": {},
     "output_type": "display_data"
    }
   ],
   "source": [
    "users['age'].hist()\n",
    "users['age'].describe()"
   ]
  },
  {
   "cell_type": "code",
   "execution_count": 22,
   "id": "3749c39a-57af-4c3e-bde3-baf572b1a365",
   "metadata": {},
   "outputs": [
    {
     "data": {
      "text/plain": [
       "city\n",
       "Москва             99\n",
       "Санкт-Петербург    39\n",
       "Новосибирск        16\n",
       "Омск               14\n",
       "Казань             14\n",
       "                   ..\n",
       "Архангельск         1\n",
       "Иваново             1\n",
       "Нижневартовск       1\n",
       "Химки               1\n",
       "Подольск            1\n",
       "Name: count, Length: 76, dtype: int64"
      ]
     },
     "execution_count": 22,
     "metadata": {},
     "output_type": "execute_result"
    }
   ],
   "source": [
    "users['city'].value_counts()"
   ]
  },
  {
   "cell_type": "code",
   "execution_count": 23,
   "id": "92aec6f6-53c0-4015-b103-bf3c4d97cdb1",
   "metadata": {},
   "outputs": [
    {
     "data": {
      "text/plain": [
       "tariff\n",
       "smart    351\n",
       "ultra    149\n",
       "Name: count, dtype: int64"
      ]
     },
     "execution_count": 23,
     "metadata": {},
     "output_type": "execute_result"
    }
   ],
   "source": [
    "users['tariff'].value_counts()"
   ]
  },
  {
   "cell_type": "code",
   "execution_count": 24,
   "id": "d3a61eb9-5416-4aed-bea9-f6f1ff4cb1f8",
   "metadata": {},
   "outputs": [
    {
     "data": {
      "text/plain": [
       "0"
      ]
     },
     "execution_count": 24,
     "metadata": {},
     "output_type": "execute_result"
    }
   ],
   "source": [
    "users.duplicated().sum()"
   ]
  },
  {
   "cell_type": "code",
   "execution_count": 25,
   "id": "88de4527-3ecd-486d-9506-3b9efb3e31e6",
   "metadata": {},
   "outputs": [
    {
     "name": "stdout",
     "output_type": "stream",
     "text": [
      "<class 'pandas.core.frame.DataFrame'>\n",
      "RangeIndex: 123036 entries, 0 to 123035\n",
      "Data columns (total 3 columns):\n",
      " #   Column        Non-Null Count   Dtype \n",
      "---  ------        --------------   ----- \n",
      " 0   id            123036 non-null  object\n",
      " 1   message_date  123036 non-null  object\n",
      " 2   user_id       123036 non-null  int64 \n",
      "dtypes: int64(1), object(2)\n",
      "memory usage: 2.8+ MB\n"
     ]
    }
   ],
   "source": [
    "messages.info()"
   ]
  },
  {
   "cell_type": "code",
   "execution_count": 26,
   "id": "19202fd1-7d84-4f55-8fca-b76e5e1557d4",
   "metadata": {},
   "outputs": [
    {
     "data": {
      "text/html": [
       "<div>\n",
       "<style scoped>\n",
       "    .dataframe tbody tr th:only-of-type {\n",
       "        vertical-align: middle;\n",
       "    }\n",
       "\n",
       "    .dataframe tbody tr th {\n",
       "        vertical-align: top;\n",
       "    }\n",
       "\n",
       "    .dataframe thead th {\n",
       "        text-align: right;\n",
       "    }\n",
       "</style>\n",
       "<table border=\"1\" class=\"dataframe\">\n",
       "  <thead>\n",
       "    <tr style=\"text-align: right;\">\n",
       "      <th></th>\n",
       "      <th>id</th>\n",
       "      <th>message_date</th>\n",
       "      <th>user_id</th>\n",
       "    </tr>\n",
       "  </thead>\n",
       "  <tbody>\n",
       "    <tr>\n",
       "      <th>0</th>\n",
       "      <td>1000_0</td>\n",
       "      <td>2018-06-27</td>\n",
       "      <td>1000</td>\n",
       "    </tr>\n",
       "    <tr>\n",
       "      <th>1</th>\n",
       "      <td>1000_1</td>\n",
       "      <td>2018-10-08</td>\n",
       "      <td>1000</td>\n",
       "    </tr>\n",
       "    <tr>\n",
       "      <th>2</th>\n",
       "      <td>1000_2</td>\n",
       "      <td>2018-08-04</td>\n",
       "      <td>1000</td>\n",
       "    </tr>\n",
       "    <tr>\n",
       "      <th>3</th>\n",
       "      <td>1000_3</td>\n",
       "      <td>2018-06-16</td>\n",
       "      <td>1000</td>\n",
       "    </tr>\n",
       "    <tr>\n",
       "      <th>4</th>\n",
       "      <td>1000_4</td>\n",
       "      <td>2018-12-05</td>\n",
       "      <td>1000</td>\n",
       "    </tr>\n",
       "  </tbody>\n",
       "</table>\n",
       "</div>"
      ],
      "text/plain": [
       "       id message_date  user_id\n",
       "0  1000_0   2018-06-27     1000\n",
       "1  1000_1   2018-10-08     1000\n",
       "2  1000_2   2018-08-04     1000\n",
       "3  1000_3   2018-06-16     1000\n",
       "4  1000_4   2018-12-05     1000"
      ]
     },
     "execution_count": 26,
     "metadata": {},
     "output_type": "execute_result"
    }
   ],
   "source": [
    "messages.head()"
   ]
  },
  {
   "cell_type": "code",
   "execution_count": 27,
   "id": "2e8672f6-71e8-450a-9c0a-fe4bd73d15f4",
   "metadata": {},
   "outputs": [
    {
     "name": "stdout",
     "output_type": "stream",
     "text": [
      "<class 'pandas.core.frame.DataFrame'>\n",
      "RangeIndex: 123036 entries, 0 to 123035\n",
      "Data columns (total 4 columns):\n",
      " #   Column        Non-Null Count   Dtype         \n",
      "---  ------        --------------   -----         \n",
      " 0   id            123036 non-null  object        \n",
      " 1   message_date  123036 non-null  datetime64[ns]\n",
      " 2   user_id       123036 non-null  int64         \n",
      " 3   month         123036 non-null  int32         \n",
      "dtypes: datetime64[ns](1), int32(1), int64(1), object(1)\n",
      "memory usage: 3.3+ MB\n"
     ]
    }
   ],
   "source": [
    "messages['message_date'] = pd.to_datetime(messages['message_date'], format = '%Y-%m-%d')\n",
    "messages['month'] = messages['message_date'].dt.month\n",
    "messages.info()"
   ]
  },
  {
   "cell_type": "markdown",
   "id": "b4ae76f2-cad8-40c7-8975-86b5d3735159",
   "metadata": {},
   "source": [
    "### Расчет выручки по месяцам"
   ]
  },
  {
   "cell_type": "markdown",
   "id": "852e41d9-c05b-41ff-8b37-38afa63ff92c",
   "metadata": {},
   "source": [
    "В таблицах `messages`, `calls`, `internet` найдем объем потраченных сообщений, минут, гб по каждому юзеру в разрезе каждого месяца. "
   ]
  },
  {
   "cell_type": "code",
   "execution_count": 28,
   "id": "b65d418c-4f7d-4fdf-92cd-9e8807a15701",
   "metadata": {},
   "outputs": [
    {
     "data": {
      "text/html": [
       "<div>\n",
       "<style scoped>\n",
       "    .dataframe tbody tr th:only-of-type {\n",
       "        vertical-align: middle;\n",
       "    }\n",
       "\n",
       "    .dataframe tbody tr th {\n",
       "        vertical-align: top;\n",
       "    }\n",
       "\n",
       "    .dataframe thead th {\n",
       "        text-align: right;\n",
       "    }\n",
       "</style>\n",
       "<table border=\"1\" class=\"dataframe\">\n",
       "  <thead>\n",
       "    <tr style=\"text-align: right;\">\n",
       "      <th></th>\n",
       "      <th>user_id</th>\n",
       "      <th>month</th>\n",
       "      <th>messages</th>\n",
       "    </tr>\n",
       "  </thead>\n",
       "  <tbody>\n",
       "    <tr>\n",
       "      <th>0</th>\n",
       "      <td>1000</td>\n",
       "      <td>5</td>\n",
       "      <td>22</td>\n",
       "    </tr>\n",
       "    <tr>\n",
       "      <th>1</th>\n",
       "      <td>1000</td>\n",
       "      <td>6</td>\n",
       "      <td>60</td>\n",
       "    </tr>\n",
       "    <tr>\n",
       "      <th>2</th>\n",
       "      <td>1000</td>\n",
       "      <td>7</td>\n",
       "      <td>75</td>\n",
       "    </tr>\n",
       "    <tr>\n",
       "      <th>3</th>\n",
       "      <td>1000</td>\n",
       "      <td>8</td>\n",
       "      <td>81</td>\n",
       "    </tr>\n",
       "    <tr>\n",
       "      <th>4</th>\n",
       "      <td>1000</td>\n",
       "      <td>9</td>\n",
       "      <td>57</td>\n",
       "    </tr>\n",
       "    <tr>\n",
       "      <th>...</th>\n",
       "      <td>...</td>\n",
       "      <td>...</td>\n",
       "      <td>...</td>\n",
       "    </tr>\n",
       "    <tr>\n",
       "      <th>2712</th>\n",
       "      <td>1498</td>\n",
       "      <td>10</td>\n",
       "      <td>42</td>\n",
       "    </tr>\n",
       "    <tr>\n",
       "      <th>2713</th>\n",
       "      <td>1499</td>\n",
       "      <td>9</td>\n",
       "      <td>11</td>\n",
       "    </tr>\n",
       "    <tr>\n",
       "      <th>2714</th>\n",
       "      <td>1499</td>\n",
       "      <td>10</td>\n",
       "      <td>48</td>\n",
       "    </tr>\n",
       "    <tr>\n",
       "      <th>2715</th>\n",
       "      <td>1499</td>\n",
       "      <td>11</td>\n",
       "      <td>59</td>\n",
       "    </tr>\n",
       "    <tr>\n",
       "      <th>2716</th>\n",
       "      <td>1499</td>\n",
       "      <td>12</td>\n",
       "      <td>66</td>\n",
       "    </tr>\n",
       "  </tbody>\n",
       "</table>\n",
       "<p>2717 rows × 3 columns</p>\n",
       "</div>"
      ],
      "text/plain": [
       "      user_id  month  messages\n",
       "0        1000      5        22\n",
       "1        1000      6        60\n",
       "2        1000      7        75\n",
       "3        1000      8        81\n",
       "4        1000      9        57\n",
       "...       ...    ...       ...\n",
       "2712     1498     10        42\n",
       "2713     1499      9        11\n",
       "2714     1499     10        48\n",
       "2715     1499     11        59\n",
       "2716     1499     12        66\n",
       "\n",
       "[2717 rows x 3 columns]"
      ]
     },
     "execution_count": 28,
     "metadata": {},
     "output_type": "execute_result"
    }
   ],
   "source": [
    "messages_pivot=messages.pivot_table(index = ['user_id', 'month'], values ='id', aggfunc ='count').reset_index()\n",
    "messages_pivot = messages_pivot.rename(columns = {'id':'messages'})\n",
    "messages_pivot"
   ]
  },
  {
   "cell_type": "code",
   "execution_count": 29,
   "id": "d0177a04-58f2-45fd-a17c-7dd7510d88fd",
   "metadata": {},
   "outputs": [
    {
     "data": {
      "text/html": [
       "<div>\n",
       "<style scoped>\n",
       "    .dataframe tbody tr th:only-of-type {\n",
       "        vertical-align: middle;\n",
       "    }\n",
       "\n",
       "    .dataframe tbody tr th {\n",
       "        vertical-align: top;\n",
       "    }\n",
       "\n",
       "    .dataframe thead th {\n",
       "        text-align: right;\n",
       "    }\n",
       "</style>\n",
       "<table border=\"1\" class=\"dataframe\">\n",
       "  <thead>\n",
       "    <tr style=\"text-align: right;\">\n",
       "      <th></th>\n",
       "      <th>user_id</th>\n",
       "      <th>month</th>\n",
       "      <th>duration</th>\n",
       "    </tr>\n",
       "  </thead>\n",
       "  <tbody>\n",
       "    <tr>\n",
       "      <th>0</th>\n",
       "      <td>1000</td>\n",
       "      <td>5</td>\n",
       "      <td>159.0</td>\n",
       "    </tr>\n",
       "    <tr>\n",
       "      <th>1</th>\n",
       "      <td>1000</td>\n",
       "      <td>6</td>\n",
       "      <td>172.0</td>\n",
       "    </tr>\n",
       "    <tr>\n",
       "      <th>2</th>\n",
       "      <td>1000</td>\n",
       "      <td>7</td>\n",
       "      <td>340.0</td>\n",
       "    </tr>\n",
       "    <tr>\n",
       "      <th>3</th>\n",
       "      <td>1000</td>\n",
       "      <td>8</td>\n",
       "      <td>408.0</td>\n",
       "    </tr>\n",
       "    <tr>\n",
       "      <th>4</th>\n",
       "      <td>1000</td>\n",
       "      <td>9</td>\n",
       "      <td>466.0</td>\n",
       "    </tr>\n",
       "    <tr>\n",
       "      <th>...</th>\n",
       "      <td>...</td>\n",
       "      <td>...</td>\n",
       "      <td>...</td>\n",
       "    </tr>\n",
       "    <tr>\n",
       "      <th>3169</th>\n",
       "      <td>1498</td>\n",
       "      <td>10</td>\n",
       "      <td>247.0</td>\n",
       "    </tr>\n",
       "    <tr>\n",
       "      <th>3170</th>\n",
       "      <td>1499</td>\n",
       "      <td>9</td>\n",
       "      <td>70.0</td>\n",
       "    </tr>\n",
       "    <tr>\n",
       "      <th>3171</th>\n",
       "      <td>1499</td>\n",
       "      <td>10</td>\n",
       "      <td>449.0</td>\n",
       "    </tr>\n",
       "    <tr>\n",
       "      <th>3172</th>\n",
       "      <td>1499</td>\n",
       "      <td>11</td>\n",
       "      <td>612.0</td>\n",
       "    </tr>\n",
       "    <tr>\n",
       "      <th>3173</th>\n",
       "      <td>1499</td>\n",
       "      <td>12</td>\n",
       "      <td>492.0</td>\n",
       "    </tr>\n",
       "  </tbody>\n",
       "</table>\n",
       "<p>3174 rows × 3 columns</p>\n",
       "</div>"
      ],
      "text/plain": [
       "      user_id  month  duration\n",
       "0        1000      5     159.0\n",
       "1        1000      6     172.0\n",
       "2        1000      7     340.0\n",
       "3        1000      8     408.0\n",
       "4        1000      9     466.0\n",
       "...       ...    ...       ...\n",
       "3169     1498     10     247.0\n",
       "3170     1499      9      70.0\n",
       "3171     1499     10     449.0\n",
       "3172     1499     11     612.0\n",
       "3173     1499     12     492.0\n",
       "\n",
       "[3174 rows x 3 columns]"
      ]
     },
     "execution_count": 29,
     "metadata": {},
     "output_type": "execute_result"
    }
   ],
   "source": [
    "calls_pivot = calls.pivot_table(index =['user_id', 'month'], values = 'duration', aggfunc = 'sum').reset_index()\n",
    "calls_pivot"
   ]
  },
  {
   "cell_type": "code",
   "execution_count": 30,
   "id": "b8d32628-3eaa-412e-80ab-42a0062c4570",
   "metadata": {},
   "outputs": [
    {
     "data": {
      "text/html": [
       "<div>\n",
       "<style scoped>\n",
       "    .dataframe tbody tr th:only-of-type {\n",
       "        vertical-align: middle;\n",
       "    }\n",
       "\n",
       "    .dataframe tbody tr th {\n",
       "        vertical-align: top;\n",
       "    }\n",
       "\n",
       "    .dataframe thead th {\n",
       "        text-align: right;\n",
       "    }\n",
       "</style>\n",
       "<table border=\"1\" class=\"dataframe\">\n",
       "  <thead>\n",
       "    <tr style=\"text-align: right;\">\n",
       "      <th></th>\n",
       "      <th>user_id</th>\n",
       "      <th>month</th>\n",
       "      <th>mb_used</th>\n",
       "      <th>gb_used</th>\n",
       "    </tr>\n",
       "  </thead>\n",
       "  <tbody>\n",
       "    <tr>\n",
       "      <th>0</th>\n",
       "      <td>1000</td>\n",
       "      <td>5</td>\n",
       "      <td>2253.49</td>\n",
       "      <td>3</td>\n",
       "    </tr>\n",
       "    <tr>\n",
       "      <th>1</th>\n",
       "      <td>1000</td>\n",
       "      <td>6</td>\n",
       "      <td>23233.77</td>\n",
       "      <td>23</td>\n",
       "    </tr>\n",
       "    <tr>\n",
       "      <th>2</th>\n",
       "      <td>1000</td>\n",
       "      <td>7</td>\n",
       "      <td>14003.64</td>\n",
       "      <td>14</td>\n",
       "    </tr>\n",
       "    <tr>\n",
       "      <th>3</th>\n",
       "      <td>1000</td>\n",
       "      <td>8</td>\n",
       "      <td>14055.93</td>\n",
       "      <td>14</td>\n",
       "    </tr>\n",
       "    <tr>\n",
       "      <th>4</th>\n",
       "      <td>1000</td>\n",
       "      <td>9</td>\n",
       "      <td>14568.91</td>\n",
       "      <td>15</td>\n",
       "    </tr>\n",
       "    <tr>\n",
       "      <th>...</th>\n",
       "      <td>...</td>\n",
       "      <td>...</td>\n",
       "      <td>...</td>\n",
       "      <td>...</td>\n",
       "    </tr>\n",
       "    <tr>\n",
       "      <th>3196</th>\n",
       "      <td>1498</td>\n",
       "      <td>10</td>\n",
       "      <td>20579.36</td>\n",
       "      <td>21</td>\n",
       "    </tr>\n",
       "    <tr>\n",
       "      <th>3197</th>\n",
       "      <td>1499</td>\n",
       "      <td>9</td>\n",
       "      <td>1845.75</td>\n",
       "      <td>2</td>\n",
       "    </tr>\n",
       "    <tr>\n",
       "      <th>3198</th>\n",
       "      <td>1499</td>\n",
       "      <td>10</td>\n",
       "      <td>17788.51</td>\n",
       "      <td>18</td>\n",
       "    </tr>\n",
       "    <tr>\n",
       "      <th>3199</th>\n",
       "      <td>1499</td>\n",
       "      <td>11</td>\n",
       "      <td>17963.31</td>\n",
       "      <td>18</td>\n",
       "    </tr>\n",
       "    <tr>\n",
       "      <th>3200</th>\n",
       "      <td>1499</td>\n",
       "      <td>12</td>\n",
       "      <td>13055.58</td>\n",
       "      <td>13</td>\n",
       "    </tr>\n",
       "  </tbody>\n",
       "</table>\n",
       "<p>3201 rows × 4 columns</p>\n",
       "</div>"
      ],
      "text/plain": [
       "      user_id  month   mb_used  gb_used\n",
       "0        1000      5   2253.49        3\n",
       "1        1000      6  23233.77       23\n",
       "2        1000      7  14003.64       14\n",
       "3        1000      8  14055.93       14\n",
       "4        1000      9  14568.91       15\n",
       "...       ...    ...       ...      ...\n",
       "3196     1498     10  20579.36       21\n",
       "3197     1499      9   1845.75        2\n",
       "3198     1499     10  17788.51       18\n",
       "3199     1499     11  17963.31       18\n",
       "3200     1499     12  13055.58       13\n",
       "\n",
       "[3201 rows x 4 columns]"
      ]
     },
     "execution_count": 30,
     "metadata": {},
     "output_type": "execute_result"
    }
   ],
   "source": [
    "internet_pivot = internet.pivot_table(index = ['user_id', 'month'], values = 'mb_used', aggfunc = 'sum').reset_index()\n",
    "internet_pivot['gb_used'] = (internet_pivot['mb_used']/1024).apply(math.ceil)\n",
    "internet_pivot"
   ]
  },
  {
   "cell_type": "code",
   "execution_count": 31,
   "id": "b1abf6ca-e7f9-4bbc-9623-dde3451ce08d",
   "metadata": {},
   "outputs": [],
   "source": [
    "tariffs = tariffs.rename(columns = {'tariff_name':'tariff'})"
   ]
  },
  {
   "cell_type": "markdown",
   "id": "19b20492-1d62-4acd-9659-1a231224a5f9",
   "metadata": {},
   "source": [
    "Объединим полученные данные в одну таблицу, а также добавим данные по количеству доступных минут, смс и гб из таблицы с тарифами"
   ]
  },
  {
   "cell_type": "code",
   "execution_count": 32,
   "id": "6afbb546-9dd1-4e44-81d9-411a04482e3f",
   "metadata": {},
   "outputs": [
    {
     "data": {
      "text/html": [
       "<div>\n",
       "<style scoped>\n",
       "    .dataframe tbody tr th:only-of-type {\n",
       "        vertical-align: middle;\n",
       "    }\n",
       "\n",
       "    .dataframe tbody tr th {\n",
       "        vertical-align: top;\n",
       "    }\n",
       "\n",
       "    .dataframe thead th {\n",
       "        text-align: right;\n",
       "    }\n",
       "</style>\n",
       "<table border=\"1\" class=\"dataframe\">\n",
       "  <thead>\n",
       "    <tr style=\"text-align: right;\">\n",
       "      <th></th>\n",
       "      <th>user_id</th>\n",
       "      <th>age</th>\n",
       "      <th>churn_date</th>\n",
       "      <th>city</th>\n",
       "      <th>first_name</th>\n",
       "      <th>last_name</th>\n",
       "      <th>reg_date</th>\n",
       "      <th>tariff</th>\n",
       "      <th>is_active</th>\n",
       "    </tr>\n",
       "  </thead>\n",
       "  <tbody>\n",
       "    <tr>\n",
       "      <th>0</th>\n",
       "      <td>1000</td>\n",
       "      <td>52</td>\n",
       "      <td>NaT</td>\n",
       "      <td>Краснодар</td>\n",
       "      <td>Рафаил</td>\n",
       "      <td>Верещагин</td>\n",
       "      <td>2018-05-25</td>\n",
       "      <td>ultra</td>\n",
       "      <td>True</td>\n",
       "    </tr>\n",
       "    <tr>\n",
       "      <th>1</th>\n",
       "      <td>1001</td>\n",
       "      <td>41</td>\n",
       "      <td>NaT</td>\n",
       "      <td>Москва</td>\n",
       "      <td>Иван</td>\n",
       "      <td>Ежов</td>\n",
       "      <td>2018-11-01</td>\n",
       "      <td>smart</td>\n",
       "      <td>True</td>\n",
       "    </tr>\n",
       "    <tr>\n",
       "      <th>2</th>\n",
       "      <td>1002</td>\n",
       "      <td>59</td>\n",
       "      <td>NaT</td>\n",
       "      <td>Стерлитамак</td>\n",
       "      <td>Евгений</td>\n",
       "      <td>Абрамович</td>\n",
       "      <td>2018-06-17</td>\n",
       "      <td>smart</td>\n",
       "      <td>True</td>\n",
       "    </tr>\n",
       "    <tr>\n",
       "      <th>3</th>\n",
       "      <td>1003</td>\n",
       "      <td>23</td>\n",
       "      <td>NaT</td>\n",
       "      <td>Москва</td>\n",
       "      <td>Белла</td>\n",
       "      <td>Белякова</td>\n",
       "      <td>2018-08-17</td>\n",
       "      <td>ultra</td>\n",
       "      <td>True</td>\n",
       "    </tr>\n",
       "    <tr>\n",
       "      <th>4</th>\n",
       "      <td>1004</td>\n",
       "      <td>68</td>\n",
       "      <td>NaT</td>\n",
       "      <td>Новокузнецк</td>\n",
       "      <td>Татьяна</td>\n",
       "      <td>Авдеенко</td>\n",
       "      <td>2018-05-14</td>\n",
       "      <td>ultra</td>\n",
       "      <td>True</td>\n",
       "    </tr>\n",
       "    <tr>\n",
       "      <th>...</th>\n",
       "      <td>...</td>\n",
       "      <td>...</td>\n",
       "      <td>...</td>\n",
       "      <td>...</td>\n",
       "      <td>...</td>\n",
       "      <td>...</td>\n",
       "      <td>...</td>\n",
       "      <td>...</td>\n",
       "      <td>...</td>\n",
       "    </tr>\n",
       "    <tr>\n",
       "      <th>495</th>\n",
       "      <td>1495</td>\n",
       "      <td>65</td>\n",
       "      <td>NaT</td>\n",
       "      <td>Иркутск</td>\n",
       "      <td>Авксентий</td>\n",
       "      <td>Фокин</td>\n",
       "      <td>2018-08-28</td>\n",
       "      <td>ultra</td>\n",
       "      <td>True</td>\n",
       "    </tr>\n",
       "    <tr>\n",
       "      <th>496</th>\n",
       "      <td>1496</td>\n",
       "      <td>36</td>\n",
       "      <td>NaT</td>\n",
       "      <td>Вологда</td>\n",
       "      <td>Трифон</td>\n",
       "      <td>Блохин</td>\n",
       "      <td>2018-01-27</td>\n",
       "      <td>smart</td>\n",
       "      <td>True</td>\n",
       "    </tr>\n",
       "    <tr>\n",
       "      <th>497</th>\n",
       "      <td>1497</td>\n",
       "      <td>32</td>\n",
       "      <td>NaT</td>\n",
       "      <td>Челябинск</td>\n",
       "      <td>Каролина</td>\n",
       "      <td>Агеева</td>\n",
       "      <td>2018-10-09</td>\n",
       "      <td>smart</td>\n",
       "      <td>True</td>\n",
       "    </tr>\n",
       "    <tr>\n",
       "      <th>498</th>\n",
       "      <td>1498</td>\n",
       "      <td>68</td>\n",
       "      <td>2018-10-25</td>\n",
       "      <td>Владикавказ</td>\n",
       "      <td>Всеволод</td>\n",
       "      <td>Акимчин</td>\n",
       "      <td>2018-07-19</td>\n",
       "      <td>smart</td>\n",
       "      <td>False</td>\n",
       "    </tr>\n",
       "    <tr>\n",
       "      <th>499</th>\n",
       "      <td>1499</td>\n",
       "      <td>35</td>\n",
       "      <td>NaT</td>\n",
       "      <td>Пермь</td>\n",
       "      <td>Гектор</td>\n",
       "      <td>Корнилов</td>\n",
       "      <td>2018-09-27</td>\n",
       "      <td>smart</td>\n",
       "      <td>True</td>\n",
       "    </tr>\n",
       "  </tbody>\n",
       "</table>\n",
       "<p>500 rows × 9 columns</p>\n",
       "</div>"
      ],
      "text/plain": [
       "     user_id  age churn_date         city first_name  last_name   reg_date  \\\n",
       "0       1000   52        NaT    Краснодар     Рафаил  Верещагин 2018-05-25   \n",
       "1       1001   41        NaT       Москва       Иван       Ежов 2018-11-01   \n",
       "2       1002   59        NaT  Стерлитамак    Евгений  Абрамович 2018-06-17   \n",
       "3       1003   23        NaT       Москва      Белла   Белякова 2018-08-17   \n",
       "4       1004   68        NaT  Новокузнецк    Татьяна   Авдеенко 2018-05-14   \n",
       "..       ...  ...        ...          ...        ...        ...        ...   \n",
       "495     1495   65        NaT      Иркутск  Авксентий      Фокин 2018-08-28   \n",
       "496     1496   36        NaT      Вологда     Трифон     Блохин 2018-01-27   \n",
       "497     1497   32        NaT    Челябинск   Каролина     Агеева 2018-10-09   \n",
       "498     1498   68 2018-10-25  Владикавказ   Всеволод    Акимчин 2018-07-19   \n",
       "499     1499   35        NaT        Пермь     Гектор   Корнилов 2018-09-27   \n",
       "\n",
       "    tariff  is_active  \n",
       "0    ultra       True  \n",
       "1    smart       True  \n",
       "2    smart       True  \n",
       "3    ultra       True  \n",
       "4    ultra       True  \n",
       "..     ...        ...  \n",
       "495  ultra       True  \n",
       "496  smart       True  \n",
       "497  smart       True  \n",
       "498  smart      False  \n",
       "499  smart       True  \n",
       "\n",
       "[500 rows x 9 columns]"
      ]
     },
     "execution_count": 32,
     "metadata": {},
     "output_type": "execute_result"
    }
   ],
   "source": [
    "users"
   ]
  },
  {
   "cell_type": "markdown",
   "id": "b0c4441a-7078-458f-b6b6-9815dd6003c3",
   "metadata": {},
   "source": [
    "Создадим пустой фрейм с уникальными id клиентов и месяцами для дальнейшего мерджа с таблицами"
   ]
  },
  {
   "cell_type": "code",
   "execution_count": 33,
   "id": "740b0b76-d586-4b58-9f07-1b33cffac030",
   "metadata": {},
   "outputs": [
    {
     "data": {
      "text/html": [
       "<div>\n",
       "<style scoped>\n",
       "    .dataframe tbody tr th:only-of-type {\n",
       "        vertical-align: middle;\n",
       "    }\n",
       "\n",
       "    .dataframe tbody tr th {\n",
       "        vertical-align: top;\n",
       "    }\n",
       "\n",
       "    .dataframe thead th {\n",
       "        text-align: right;\n",
       "    }\n",
       "</style>\n",
       "<table border=\"1\" class=\"dataframe\">\n",
       "  <thead>\n",
       "    <tr style=\"text-align: right;\">\n",
       "      <th></th>\n",
       "      <th>user_id</th>\n",
       "      <th>month</th>\n",
       "    </tr>\n",
       "  </thead>\n",
       "  <tbody>\n",
       "    <tr>\n",
       "      <th>0</th>\n",
       "      <td>1000</td>\n",
       "      <td>1</td>\n",
       "    </tr>\n",
       "    <tr>\n",
       "      <th>1</th>\n",
       "      <td>1000</td>\n",
       "      <td>2</td>\n",
       "    </tr>\n",
       "    <tr>\n",
       "      <th>2</th>\n",
       "      <td>1000</td>\n",
       "      <td>3</td>\n",
       "    </tr>\n",
       "    <tr>\n",
       "      <th>3</th>\n",
       "      <td>1000</td>\n",
       "      <td>4</td>\n",
       "    </tr>\n",
       "    <tr>\n",
       "      <th>4</th>\n",
       "      <td>1000</td>\n",
       "      <td>5</td>\n",
       "    </tr>\n",
       "    <tr>\n",
       "      <th>...</th>\n",
       "      <td>...</td>\n",
       "      <td>...</td>\n",
       "    </tr>\n",
       "    <tr>\n",
       "      <th>5995</th>\n",
       "      <td>1499</td>\n",
       "      <td>8</td>\n",
       "    </tr>\n",
       "    <tr>\n",
       "      <th>5996</th>\n",
       "      <td>1499</td>\n",
       "      <td>9</td>\n",
       "    </tr>\n",
       "    <tr>\n",
       "      <th>5997</th>\n",
       "      <td>1499</td>\n",
       "      <td>10</td>\n",
       "    </tr>\n",
       "    <tr>\n",
       "      <th>5998</th>\n",
       "      <td>1499</td>\n",
       "      <td>11</td>\n",
       "    </tr>\n",
       "    <tr>\n",
       "      <th>5999</th>\n",
       "      <td>1499</td>\n",
       "      <td>12</td>\n",
       "    </tr>\n",
       "  </tbody>\n",
       "</table>\n",
       "<p>6000 rows × 2 columns</p>\n",
       "</div>"
      ],
      "text/plain": [
       "      user_id  month\n",
       "0        1000      1\n",
       "1        1000      2\n",
       "2        1000      3\n",
       "3        1000      4\n",
       "4        1000      5\n",
       "...       ...    ...\n",
       "5995     1499      8\n",
       "5996     1499      9\n",
       "5997     1499     10\n",
       "5998     1499     11\n",
       "5999     1499     12\n",
       "\n",
       "[6000 rows x 2 columns]"
      ]
     },
     "execution_count": 33,
     "metadata": {},
     "output_type": "execute_result"
    }
   ],
   "source": [
    "user_id = users.user_id.unique()\n",
    "month = [1,2,3,4,5,6,7,8,9,10,11,12]\n",
    "\n",
    "index = pd.MultiIndex.from_product([user_id, month], names = [\"user_id\", \"month\"])\n",
    "\n",
    "general_users = pd.DataFrame(index = index).reset_index()\n",
    "general_users"
   ]
  },
  {
   "cell_type": "code",
   "execution_count": 34,
   "id": "6dde30b1-666e-4ce8-880d-06c53ef6defc",
   "metadata": {},
   "outputs": [
    {
     "data": {
      "text/html": [
       "<div>\n",
       "<style scoped>\n",
       "    .dataframe tbody tr th:only-of-type {\n",
       "        vertical-align: middle;\n",
       "    }\n",
       "\n",
       "    .dataframe tbody tr th {\n",
       "        vertical-align: top;\n",
       "    }\n",
       "\n",
       "    .dataframe thead th {\n",
       "        text-align: right;\n",
       "    }\n",
       "</style>\n",
       "<table border=\"1\" class=\"dataframe\">\n",
       "  <thead>\n",
       "    <tr style=\"text-align: right;\">\n",
       "      <th></th>\n",
       "      <th>user_id</th>\n",
       "      <th>month</th>\n",
       "      <th>city</th>\n",
       "      <th>tariff</th>\n",
       "      <th>is_active</th>\n",
       "      <th>duration</th>\n",
       "      <th>messages</th>\n",
       "      <th>gb_used</th>\n",
       "      <th>messages_included</th>\n",
       "      <th>gb_per_month_included</th>\n",
       "      <th>minutes_included</th>\n",
       "      <th>rub_monthly_fee</th>\n",
       "      <th>rub_per_gb</th>\n",
       "      <th>rub_per_message</th>\n",
       "      <th>rub_per_minute</th>\n",
       "    </tr>\n",
       "  </thead>\n",
       "  <tbody>\n",
       "    <tr>\n",
       "      <th>0</th>\n",
       "      <td>1000</td>\n",
       "      <td>1</td>\n",
       "      <td>Краснодар</td>\n",
       "      <td>ultra</td>\n",
       "      <td>True</td>\n",
       "      <td>NaN</td>\n",
       "      <td>NaN</td>\n",
       "      <td>NaN</td>\n",
       "      <td>1000</td>\n",
       "      <td>30</td>\n",
       "      <td>3000</td>\n",
       "      <td>1950</td>\n",
       "      <td>150</td>\n",
       "      <td>1</td>\n",
       "      <td>1</td>\n",
       "    </tr>\n",
       "    <tr>\n",
       "      <th>1</th>\n",
       "      <td>1000</td>\n",
       "      <td>2</td>\n",
       "      <td>Краснодар</td>\n",
       "      <td>ultra</td>\n",
       "      <td>True</td>\n",
       "      <td>NaN</td>\n",
       "      <td>NaN</td>\n",
       "      <td>NaN</td>\n",
       "      <td>1000</td>\n",
       "      <td>30</td>\n",
       "      <td>3000</td>\n",
       "      <td>1950</td>\n",
       "      <td>150</td>\n",
       "      <td>1</td>\n",
       "      <td>1</td>\n",
       "    </tr>\n",
       "    <tr>\n",
       "      <th>2</th>\n",
       "      <td>1000</td>\n",
       "      <td>3</td>\n",
       "      <td>Краснодар</td>\n",
       "      <td>ultra</td>\n",
       "      <td>True</td>\n",
       "      <td>NaN</td>\n",
       "      <td>NaN</td>\n",
       "      <td>NaN</td>\n",
       "      <td>1000</td>\n",
       "      <td>30</td>\n",
       "      <td>3000</td>\n",
       "      <td>1950</td>\n",
       "      <td>150</td>\n",
       "      <td>1</td>\n",
       "      <td>1</td>\n",
       "    </tr>\n",
       "    <tr>\n",
       "      <th>3</th>\n",
       "      <td>1000</td>\n",
       "      <td>4</td>\n",
       "      <td>Краснодар</td>\n",
       "      <td>ultra</td>\n",
       "      <td>True</td>\n",
       "      <td>NaN</td>\n",
       "      <td>NaN</td>\n",
       "      <td>NaN</td>\n",
       "      <td>1000</td>\n",
       "      <td>30</td>\n",
       "      <td>3000</td>\n",
       "      <td>1950</td>\n",
       "      <td>150</td>\n",
       "      <td>1</td>\n",
       "      <td>1</td>\n",
       "    </tr>\n",
       "    <tr>\n",
       "      <th>4</th>\n",
       "      <td>1000</td>\n",
       "      <td>5</td>\n",
       "      <td>Краснодар</td>\n",
       "      <td>ultra</td>\n",
       "      <td>True</td>\n",
       "      <td>159.0</td>\n",
       "      <td>22.0</td>\n",
       "      <td>3.0</td>\n",
       "      <td>1000</td>\n",
       "      <td>30</td>\n",
       "      <td>3000</td>\n",
       "      <td>1950</td>\n",
       "      <td>150</td>\n",
       "      <td>1</td>\n",
       "      <td>1</td>\n",
       "    </tr>\n",
       "    <tr>\n",
       "      <th>...</th>\n",
       "      <td>...</td>\n",
       "      <td>...</td>\n",
       "      <td>...</td>\n",
       "      <td>...</td>\n",
       "      <td>...</td>\n",
       "      <td>...</td>\n",
       "      <td>...</td>\n",
       "      <td>...</td>\n",
       "      <td>...</td>\n",
       "      <td>...</td>\n",
       "      <td>...</td>\n",
       "      <td>...</td>\n",
       "      <td>...</td>\n",
       "      <td>...</td>\n",
       "      <td>...</td>\n",
       "    </tr>\n",
       "    <tr>\n",
       "      <th>5995</th>\n",
       "      <td>1499</td>\n",
       "      <td>8</td>\n",
       "      <td>Пермь</td>\n",
       "      <td>smart</td>\n",
       "      <td>True</td>\n",
       "      <td>NaN</td>\n",
       "      <td>NaN</td>\n",
       "      <td>NaN</td>\n",
       "      <td>50</td>\n",
       "      <td>15</td>\n",
       "      <td>500</td>\n",
       "      <td>550</td>\n",
       "      <td>200</td>\n",
       "      <td>3</td>\n",
       "      <td>3</td>\n",
       "    </tr>\n",
       "    <tr>\n",
       "      <th>5996</th>\n",
       "      <td>1499</td>\n",
       "      <td>9</td>\n",
       "      <td>Пермь</td>\n",
       "      <td>smart</td>\n",
       "      <td>True</td>\n",
       "      <td>70.0</td>\n",
       "      <td>11.0</td>\n",
       "      <td>2.0</td>\n",
       "      <td>50</td>\n",
       "      <td>15</td>\n",
       "      <td>500</td>\n",
       "      <td>550</td>\n",
       "      <td>200</td>\n",
       "      <td>3</td>\n",
       "      <td>3</td>\n",
       "    </tr>\n",
       "    <tr>\n",
       "      <th>5997</th>\n",
       "      <td>1499</td>\n",
       "      <td>10</td>\n",
       "      <td>Пермь</td>\n",
       "      <td>smart</td>\n",
       "      <td>True</td>\n",
       "      <td>449.0</td>\n",
       "      <td>48.0</td>\n",
       "      <td>18.0</td>\n",
       "      <td>50</td>\n",
       "      <td>15</td>\n",
       "      <td>500</td>\n",
       "      <td>550</td>\n",
       "      <td>200</td>\n",
       "      <td>3</td>\n",
       "      <td>3</td>\n",
       "    </tr>\n",
       "    <tr>\n",
       "      <th>5998</th>\n",
       "      <td>1499</td>\n",
       "      <td>11</td>\n",
       "      <td>Пермь</td>\n",
       "      <td>smart</td>\n",
       "      <td>True</td>\n",
       "      <td>612.0</td>\n",
       "      <td>59.0</td>\n",
       "      <td>18.0</td>\n",
       "      <td>50</td>\n",
       "      <td>15</td>\n",
       "      <td>500</td>\n",
       "      <td>550</td>\n",
       "      <td>200</td>\n",
       "      <td>3</td>\n",
       "      <td>3</td>\n",
       "    </tr>\n",
       "    <tr>\n",
       "      <th>5999</th>\n",
       "      <td>1499</td>\n",
       "      <td>12</td>\n",
       "      <td>Пермь</td>\n",
       "      <td>smart</td>\n",
       "      <td>True</td>\n",
       "      <td>492.0</td>\n",
       "      <td>66.0</td>\n",
       "      <td>13.0</td>\n",
       "      <td>50</td>\n",
       "      <td>15</td>\n",
       "      <td>500</td>\n",
       "      <td>550</td>\n",
       "      <td>200</td>\n",
       "      <td>3</td>\n",
       "      <td>3</td>\n",
       "    </tr>\n",
       "  </tbody>\n",
       "</table>\n",
       "<p>6000 rows × 15 columns</p>\n",
       "</div>"
      ],
      "text/plain": [
       "      user_id  month       city tariff  is_active  duration  messages  \\\n",
       "0        1000      1  Краснодар  ultra       True       NaN       NaN   \n",
       "1        1000      2  Краснодар  ultra       True       NaN       NaN   \n",
       "2        1000      3  Краснодар  ultra       True       NaN       NaN   \n",
       "3        1000      4  Краснодар  ultra       True       NaN       NaN   \n",
       "4        1000      5  Краснодар  ultra       True     159.0      22.0   \n",
       "...       ...    ...        ...    ...        ...       ...       ...   \n",
       "5995     1499      8      Пермь  smart       True       NaN       NaN   \n",
       "5996     1499      9      Пермь  smart       True      70.0      11.0   \n",
       "5997     1499     10      Пермь  smart       True     449.0      48.0   \n",
       "5998     1499     11      Пермь  smart       True     612.0      59.0   \n",
       "5999     1499     12      Пермь  smart       True     492.0      66.0   \n",
       "\n",
       "      gb_used  messages_included  gb_per_month_included  minutes_included  \\\n",
       "0         NaN               1000                     30              3000   \n",
       "1         NaN               1000                     30              3000   \n",
       "2         NaN               1000                     30              3000   \n",
       "3         NaN               1000                     30              3000   \n",
       "4         3.0               1000                     30              3000   \n",
       "...       ...                ...                    ...               ...   \n",
       "5995      NaN                 50                     15               500   \n",
       "5996      2.0                 50                     15               500   \n",
       "5997     18.0                 50                     15               500   \n",
       "5998     18.0                 50                     15               500   \n",
       "5999     13.0                 50                     15               500   \n",
       "\n",
       "      rub_monthly_fee  rub_per_gb  rub_per_message  rub_per_minute  \n",
       "0                1950         150                1               1  \n",
       "1                1950         150                1               1  \n",
       "2                1950         150                1               1  \n",
       "3                1950         150                1               1  \n",
       "4                1950         150                1               1  \n",
       "...               ...         ...              ...             ...  \n",
       "5995              550         200                3               3  \n",
       "5996              550         200                3               3  \n",
       "5997              550         200                3               3  \n",
       "5998              550         200                3               3  \n",
       "5999              550         200                3               3  \n",
       "\n",
       "[6000 rows x 15 columns]"
      ]
     },
     "execution_count": 34,
     "metadata": {},
     "output_type": "execute_result"
    }
   ],
   "source": [
    "general_users = (general_users\n",
    "                 .merge(users[['user_id', 'city', 'tariff', 'is_active']], on = 'user_id', how = 'left')\n",
    "                 .merge(calls_pivot, on = ['user_id', 'month'], how = 'left')\n",
    "                 .merge(messages_pivot, on = ['user_id', 'month'], how = 'left')\n",
    "                 .merge(internet_pivot, on = ['user_id', 'month'], how = 'left')\n",
    "                 .merge(tariffs, on = 'tariff')\n",
    ")\n",
    "general_users = general_users.drop(columns = 'mb_used')\n",
    "general_users"
   ]
  },
  {
   "cell_type": "code",
   "execution_count": 35,
   "id": "32c8f94b-368d-4242-9ea3-b1c202ba2fc2",
   "metadata": {},
   "outputs": [
    {
     "data": {
      "text/plain": [
       "(500,)"
      ]
     },
     "execution_count": 35,
     "metadata": {},
     "output_type": "execute_result"
    }
   ],
   "source": [
    "general_users.user_id.unique().shape"
   ]
  },
  {
   "cell_type": "markdown",
   "id": "43b6a1c7-9e00-4497-afb6-4ad32bd8db3e",
   "metadata": {},
   "source": [
    "Для того, чтобы не учитывать абонентскую плату по месяцам, в которых пользователи не пользовались пакетом (такие месяца полчились из-за способа сбора данных), удалим такие месяца из датафрейма"
   ]
  },
  {
   "cell_type": "code",
   "execution_count": 36,
   "id": "80bcc05e-b2b6-4192-8add-3e9c3c66e7aa",
   "metadata": {},
   "outputs": [
    {
     "data": {
      "text/html": [
       "<div>\n",
       "<style scoped>\n",
       "    .dataframe tbody tr th:only-of-type {\n",
       "        vertical-align: middle;\n",
       "    }\n",
       "\n",
       "    .dataframe tbody tr th {\n",
       "        vertical-align: top;\n",
       "    }\n",
       "\n",
       "    .dataframe thead th {\n",
       "        text-align: right;\n",
       "    }\n",
       "</style>\n",
       "<table border=\"1\" class=\"dataframe\">\n",
       "  <thead>\n",
       "    <tr style=\"text-align: right;\">\n",
       "      <th></th>\n",
       "      <th>index</th>\n",
       "      <th>user_id</th>\n",
       "      <th>month</th>\n",
       "      <th>city</th>\n",
       "      <th>tariff</th>\n",
       "      <th>is_active</th>\n",
       "      <th>duration</th>\n",
       "      <th>messages</th>\n",
       "      <th>gb_used</th>\n",
       "      <th>messages_included</th>\n",
       "      <th>gb_per_month_included</th>\n",
       "      <th>minutes_included</th>\n",
       "      <th>rub_monthly_fee</th>\n",
       "      <th>rub_per_gb</th>\n",
       "      <th>rub_per_message</th>\n",
       "      <th>rub_per_minute</th>\n",
       "    </tr>\n",
       "  </thead>\n",
       "  <tbody>\n",
       "    <tr>\n",
       "      <th>0</th>\n",
       "      <td>4</td>\n",
       "      <td>1000</td>\n",
       "      <td>5</td>\n",
       "      <td>Краснодар</td>\n",
       "      <td>ultra</td>\n",
       "      <td>True</td>\n",
       "      <td>159.0</td>\n",
       "      <td>22.0</td>\n",
       "      <td>3.0</td>\n",
       "      <td>1000</td>\n",
       "      <td>30</td>\n",
       "      <td>3000</td>\n",
       "      <td>1950</td>\n",
       "      <td>150</td>\n",
       "      <td>1</td>\n",
       "      <td>1</td>\n",
       "    </tr>\n",
       "    <tr>\n",
       "      <th>1</th>\n",
       "      <td>5</td>\n",
       "      <td>1000</td>\n",
       "      <td>6</td>\n",
       "      <td>Краснодар</td>\n",
       "      <td>ultra</td>\n",
       "      <td>True</td>\n",
       "      <td>172.0</td>\n",
       "      <td>60.0</td>\n",
       "      <td>23.0</td>\n",
       "      <td>1000</td>\n",
       "      <td>30</td>\n",
       "      <td>3000</td>\n",
       "      <td>1950</td>\n",
       "      <td>150</td>\n",
       "      <td>1</td>\n",
       "      <td>1</td>\n",
       "    </tr>\n",
       "    <tr>\n",
       "      <th>2</th>\n",
       "      <td>6</td>\n",
       "      <td>1000</td>\n",
       "      <td>7</td>\n",
       "      <td>Краснодар</td>\n",
       "      <td>ultra</td>\n",
       "      <td>True</td>\n",
       "      <td>340.0</td>\n",
       "      <td>75.0</td>\n",
       "      <td>14.0</td>\n",
       "      <td>1000</td>\n",
       "      <td>30</td>\n",
       "      <td>3000</td>\n",
       "      <td>1950</td>\n",
       "      <td>150</td>\n",
       "      <td>1</td>\n",
       "      <td>1</td>\n",
       "    </tr>\n",
       "    <tr>\n",
       "      <th>3</th>\n",
       "      <td>7</td>\n",
       "      <td>1000</td>\n",
       "      <td>8</td>\n",
       "      <td>Краснодар</td>\n",
       "      <td>ultra</td>\n",
       "      <td>True</td>\n",
       "      <td>408.0</td>\n",
       "      <td>81.0</td>\n",
       "      <td>14.0</td>\n",
       "      <td>1000</td>\n",
       "      <td>30</td>\n",
       "      <td>3000</td>\n",
       "      <td>1950</td>\n",
       "      <td>150</td>\n",
       "      <td>1</td>\n",
       "      <td>1</td>\n",
       "    </tr>\n",
       "    <tr>\n",
       "      <th>4</th>\n",
       "      <td>8</td>\n",
       "      <td>1000</td>\n",
       "      <td>9</td>\n",
       "      <td>Краснодар</td>\n",
       "      <td>ultra</td>\n",
       "      <td>True</td>\n",
       "      <td>466.0</td>\n",
       "      <td>57.0</td>\n",
       "      <td>15.0</td>\n",
       "      <td>1000</td>\n",
       "      <td>30</td>\n",
       "      <td>3000</td>\n",
       "      <td>1950</td>\n",
       "      <td>150</td>\n",
       "      <td>1</td>\n",
       "      <td>1</td>\n",
       "    </tr>\n",
       "    <tr>\n",
       "      <th>...</th>\n",
       "      <td>...</td>\n",
       "      <td>...</td>\n",
       "      <td>...</td>\n",
       "      <td>...</td>\n",
       "      <td>...</td>\n",
       "      <td>...</td>\n",
       "      <td>...</td>\n",
       "      <td>...</td>\n",
       "      <td>...</td>\n",
       "      <td>...</td>\n",
       "      <td>...</td>\n",
       "      <td>...</td>\n",
       "      <td>...</td>\n",
       "      <td>...</td>\n",
       "      <td>...</td>\n",
       "      <td>...</td>\n",
       "    </tr>\n",
       "    <tr>\n",
       "      <th>3209</th>\n",
       "      <td>5985</td>\n",
       "      <td>1498</td>\n",
       "      <td>10</td>\n",
       "      <td>Владикавказ</td>\n",
       "      <td>smart</td>\n",
       "      <td>False</td>\n",
       "      <td>247.0</td>\n",
       "      <td>42.0</td>\n",
       "      <td>21.0</td>\n",
       "      <td>50</td>\n",
       "      <td>15</td>\n",
       "      <td>500</td>\n",
       "      <td>550</td>\n",
       "      <td>200</td>\n",
       "      <td>3</td>\n",
       "      <td>3</td>\n",
       "    </tr>\n",
       "    <tr>\n",
       "      <th>3210</th>\n",
       "      <td>5996</td>\n",
       "      <td>1499</td>\n",
       "      <td>9</td>\n",
       "      <td>Пермь</td>\n",
       "      <td>smart</td>\n",
       "      <td>True</td>\n",
       "      <td>70.0</td>\n",
       "      <td>11.0</td>\n",
       "      <td>2.0</td>\n",
       "      <td>50</td>\n",
       "      <td>15</td>\n",
       "      <td>500</td>\n",
       "      <td>550</td>\n",
       "      <td>200</td>\n",
       "      <td>3</td>\n",
       "      <td>3</td>\n",
       "    </tr>\n",
       "    <tr>\n",
       "      <th>3211</th>\n",
       "      <td>5997</td>\n",
       "      <td>1499</td>\n",
       "      <td>10</td>\n",
       "      <td>Пермь</td>\n",
       "      <td>smart</td>\n",
       "      <td>True</td>\n",
       "      <td>449.0</td>\n",
       "      <td>48.0</td>\n",
       "      <td>18.0</td>\n",
       "      <td>50</td>\n",
       "      <td>15</td>\n",
       "      <td>500</td>\n",
       "      <td>550</td>\n",
       "      <td>200</td>\n",
       "      <td>3</td>\n",
       "      <td>3</td>\n",
       "    </tr>\n",
       "    <tr>\n",
       "      <th>3212</th>\n",
       "      <td>5998</td>\n",
       "      <td>1499</td>\n",
       "      <td>11</td>\n",
       "      <td>Пермь</td>\n",
       "      <td>smart</td>\n",
       "      <td>True</td>\n",
       "      <td>612.0</td>\n",
       "      <td>59.0</td>\n",
       "      <td>18.0</td>\n",
       "      <td>50</td>\n",
       "      <td>15</td>\n",
       "      <td>500</td>\n",
       "      <td>550</td>\n",
       "      <td>200</td>\n",
       "      <td>3</td>\n",
       "      <td>3</td>\n",
       "    </tr>\n",
       "    <tr>\n",
       "      <th>3213</th>\n",
       "      <td>5999</td>\n",
       "      <td>1499</td>\n",
       "      <td>12</td>\n",
       "      <td>Пермь</td>\n",
       "      <td>smart</td>\n",
       "      <td>True</td>\n",
       "      <td>492.0</td>\n",
       "      <td>66.0</td>\n",
       "      <td>13.0</td>\n",
       "      <td>50</td>\n",
       "      <td>15</td>\n",
       "      <td>500</td>\n",
       "      <td>550</td>\n",
       "      <td>200</td>\n",
       "      <td>3</td>\n",
       "      <td>3</td>\n",
       "    </tr>\n",
       "  </tbody>\n",
       "</table>\n",
       "<p>3214 rows × 16 columns</p>\n",
       "</div>"
      ],
      "text/plain": [
       "      index  user_id  month         city tariff  is_active  duration  \\\n",
       "0         4     1000      5    Краснодар  ultra       True     159.0   \n",
       "1         5     1000      6    Краснодар  ultra       True     172.0   \n",
       "2         6     1000      7    Краснодар  ultra       True     340.0   \n",
       "3         7     1000      8    Краснодар  ultra       True     408.0   \n",
       "4         8     1000      9    Краснодар  ultra       True     466.0   \n",
       "...     ...      ...    ...          ...    ...        ...       ...   \n",
       "3209   5985     1498     10  Владикавказ  smart      False     247.0   \n",
       "3210   5996     1499      9        Пермь  smart       True      70.0   \n",
       "3211   5997     1499     10        Пермь  smart       True     449.0   \n",
       "3212   5998     1499     11        Пермь  smart       True     612.0   \n",
       "3213   5999     1499     12        Пермь  smart       True     492.0   \n",
       "\n",
       "      messages  gb_used  messages_included  gb_per_month_included  \\\n",
       "0         22.0      3.0               1000                     30   \n",
       "1         60.0     23.0               1000                     30   \n",
       "2         75.0     14.0               1000                     30   \n",
       "3         81.0     14.0               1000                     30   \n",
       "4         57.0     15.0               1000                     30   \n",
       "...        ...      ...                ...                    ...   \n",
       "3209      42.0     21.0                 50                     15   \n",
       "3210      11.0      2.0                 50                     15   \n",
       "3211      48.0     18.0                 50                     15   \n",
       "3212      59.0     18.0                 50                     15   \n",
       "3213      66.0     13.0                 50                     15   \n",
       "\n",
       "      minutes_included  rub_monthly_fee  rub_per_gb  rub_per_message  \\\n",
       "0                 3000             1950         150                1   \n",
       "1                 3000             1950         150                1   \n",
       "2                 3000             1950         150                1   \n",
       "3                 3000             1950         150                1   \n",
       "4                 3000             1950         150                1   \n",
       "...                ...              ...         ...              ...   \n",
       "3209               500              550         200                3   \n",
       "3210               500              550         200                3   \n",
       "3211               500              550         200                3   \n",
       "3212               500              550         200                3   \n",
       "3213               500              550         200                3   \n",
       "\n",
       "      rub_per_minute  \n",
       "0                  1  \n",
       "1                  1  \n",
       "2                  1  \n",
       "3                  1  \n",
       "4                  1  \n",
       "...              ...  \n",
       "3209               3  \n",
       "3210               3  \n",
       "3211               3  \n",
       "3212               3  \n",
       "3213               3  \n",
       "\n",
       "[3214 rows x 16 columns]"
      ]
     },
     "execution_count": 36,
     "metadata": {},
     "output_type": "execute_result"
    }
   ],
   "source": [
    "index = (general_users[(general_users['duration'].isna()==True)\n",
    "                       &(general_users['gb_used'].isna()==True)\n",
    "                       &(general_users['messages'].isna()==True)].index\n",
    ")\n",
    "general_users = general_users.drop(index = index).reset_index()\n",
    "general_users"
   ]
  },
  {
   "cell_type": "markdown",
   "id": "18c45ca7-8dfc-453f-9f99-01a2f70da442",
   "metadata": {},
   "source": [
    "Выполним проверку, что удаленные юзеры не совершили ни одного звонка, не отпривили ни одного смс, не использовали ни одного гб интернета."
   ]
  },
  {
   "cell_type": "code",
   "execution_count": 47,
   "id": "5241fe7b-c85d-4317-9e39-fa7d66b60da2",
   "metadata": {},
   "outputs": [
    {
     "data": {
      "text/html": [
       "<div>\n",
       "<style scoped>\n",
       "    .dataframe tbody tr th:only-of-type {\n",
       "        vertical-align: middle;\n",
       "    }\n",
       "\n",
       "    .dataframe tbody tr th {\n",
       "        vertical-align: top;\n",
       "    }\n",
       "\n",
       "    .dataframe thead th {\n",
       "        text-align: right;\n",
       "    }\n",
       "</style>\n",
       "<table border=\"1\" class=\"dataframe\">\n",
       "  <thead>\n",
       "    <tr style=\"text-align: right;\">\n",
       "      <th></th>\n",
       "      <th>user_id</th>\n",
       "      <th>month</th>\n",
       "      <th>messages</th>\n",
       "    </tr>\n",
       "  </thead>\n",
       "  <tbody>\n",
       "  </tbody>\n",
       "</table>\n",
       "</div>"
      ],
      "text/plain": [
       "Empty DataFrame\n",
       "Columns: [user_id, month, messages]\n",
       "Index: []"
      ]
     },
     "metadata": {},
     "output_type": "display_data"
    },
    {
     "data": {
      "text/html": [
       "<div>\n",
       "<style scoped>\n",
       "    .dataframe tbody tr th:only-of-type {\n",
       "        vertical-align: middle;\n",
       "    }\n",
       "\n",
       "    .dataframe tbody tr th {\n",
       "        vertical-align: top;\n",
       "    }\n",
       "\n",
       "    .dataframe thead th {\n",
       "        text-align: right;\n",
       "    }\n",
       "</style>\n",
       "<table border=\"1\" class=\"dataframe\">\n",
       "  <thead>\n",
       "    <tr style=\"text-align: right;\">\n",
       "      <th></th>\n",
       "      <th>user_id</th>\n",
       "      <th>month</th>\n",
       "      <th>mb_used</th>\n",
       "      <th>gb_used</th>\n",
       "    </tr>\n",
       "  </thead>\n",
       "  <tbody>\n",
       "  </tbody>\n",
       "</table>\n",
       "</div>"
      ],
      "text/plain": [
       "Empty DataFrame\n",
       "Columns: [user_id, month, mb_used, gb_used]\n",
       "Index: []"
      ]
     },
     "metadata": {},
     "output_type": "display_data"
    },
    {
     "data": {
      "text/html": [
       "<div>\n",
       "<style scoped>\n",
       "    .dataframe tbody tr th:only-of-type {\n",
       "        vertical-align: middle;\n",
       "    }\n",
       "\n",
       "    .dataframe tbody tr th {\n",
       "        vertical-align: top;\n",
       "    }\n",
       "\n",
       "    .dataframe thead th {\n",
       "        text-align: right;\n",
       "    }\n",
       "</style>\n",
       "<table border=\"1\" class=\"dataframe\">\n",
       "  <thead>\n",
       "    <tr style=\"text-align: right;\">\n",
       "      <th></th>\n",
       "      <th>user_id</th>\n",
       "      <th>month</th>\n",
       "      <th>duration</th>\n",
       "    </tr>\n",
       "  </thead>\n",
       "  <tbody>\n",
       "  </tbody>\n",
       "</table>\n",
       "</div>"
      ],
      "text/plain": [
       "Empty DataFrame\n",
       "Columns: [user_id, month, duration]\n",
       "Index: []"
      ]
     },
     "metadata": {},
     "output_type": "display_data"
    }
   ],
   "source": [
    "bad_users = []\n",
    "for user in users.user_id.unique():\n",
    "    if user not in general_users.user_id.unique():\n",
    "        bad_users.append(user)\n",
    "bad_users\n",
    "\n",
    "display(messages_pivot.query('user_id in @bad_users'))\n",
    "display(internet_pivot.query('user_id in @bad_users'))\n",
    "display(calls_pivot.query('user_id in @bad_users'))"
   ]
  },
  {
   "cell_type": "code",
   "execution_count": 48,
   "id": "c52a5da2-ba5b-4040-8715-10aeaa368144",
   "metadata": {},
   "outputs": [
    {
     "data": {
      "text/html": [
       "<div>\n",
       "<style scoped>\n",
       "    .dataframe tbody tr th:only-of-type {\n",
       "        vertical-align: middle;\n",
       "    }\n",
       "\n",
       "    .dataframe tbody tr th {\n",
       "        vertical-align: top;\n",
       "    }\n",
       "\n",
       "    .dataframe thead th {\n",
       "        text-align: right;\n",
       "    }\n",
       "</style>\n",
       "<table border=\"1\" class=\"dataframe\">\n",
       "  <thead>\n",
       "    <tr style=\"text-align: right;\">\n",
       "      <th></th>\n",
       "      <th>index</th>\n",
       "      <th>user_id</th>\n",
       "      <th>month</th>\n",
       "      <th>city</th>\n",
       "      <th>tariff</th>\n",
       "      <th>is_active</th>\n",
       "      <th>duration</th>\n",
       "      <th>messages</th>\n",
       "      <th>gb_used</th>\n",
       "      <th>messages_included</th>\n",
       "      <th>gb_per_month_included</th>\n",
       "      <th>minutes_included</th>\n",
       "      <th>rub_monthly_fee</th>\n",
       "      <th>rub_per_gb</th>\n",
       "      <th>rub_per_message</th>\n",
       "      <th>rub_per_minute</th>\n",
       "    </tr>\n",
       "  </thead>\n",
       "  <tbody>\n",
       "  </tbody>\n",
       "</table>\n",
       "</div>"
      ],
      "text/plain": [
       "Empty DataFrame\n",
       "Columns: [index, user_id, month, city, tariff, is_active, duration, messages, gb_used, messages_included, gb_per_month_included, minutes_included, rub_monthly_fee, rub_per_gb, rub_per_message, rub_per_minute]\n",
       "Index: []"
      ]
     },
     "execution_count": 48,
     "metadata": {},
     "output_type": "execute_result"
    }
   ],
   "source": [
    "general_users[general_users['month'].isna()==True]"
   ]
  },
  {
   "cell_type": "code",
   "execution_count": 49,
   "id": "0f4751de-4a66-45fa-b9dc-c252eabc3731",
   "metadata": {},
   "outputs": [
    {
     "name": "stdout",
     "output_type": "stream",
     "text": [
      "0\n",
      "0\n",
      "0\n"
     ]
    }
   ],
   "source": [
    "general_users['month'] = general_users['month'].fillna(0)\n",
    "general_users['duration'] = general_users['duration'].fillna(0)\n",
    "general_users['gb_used'] = general_users['gb_used'].fillna(0)\n",
    "general_users['messages'] = general_users['messages'].fillna(0)\n",
    "\n",
    "print (general_users['duration'].isna().sum())\n",
    "print (general_users['gb_used'].isna().sum())\n",
    "print (general_users['messages'].isna().sum())"
   ]
  },
  {
   "cell_type": "code",
   "execution_count": 50,
   "id": "eaf6382a-2bdb-4313-8e25-86e9316ee158",
   "metadata": {},
   "outputs": [
    {
     "data": {
      "text/plain": [
       "[1128, 1371]"
      ]
     },
     "execution_count": 50,
     "metadata": {},
     "output_type": "execute_result"
    }
   ],
   "source": [
    "bad_users = []\n",
    "for user in users.user_id.unique():\n",
    "    if user not in general_users.user_id.unique():\n",
    "        bad_users.append(user)\n",
    "bad_users      # [1091, 1106, 1128, 1231, 1328, 1371, 1473, 1489]  "
   ]
  },
  {
   "cell_type": "code",
   "execution_count": 51,
   "id": "67993dd2-5ab4-45b9-8e55-47e7b0ac6ecd",
   "metadata": {},
   "outputs": [
    {
     "data": {
      "text/html": [
       "<div>\n",
       "<style scoped>\n",
       "    .dataframe tbody tr th:only-of-type {\n",
       "        vertical-align: middle;\n",
       "    }\n",
       "\n",
       "    .dataframe tbody tr th {\n",
       "        vertical-align: top;\n",
       "    }\n",
       "\n",
       "    .dataframe thead th {\n",
       "        text-align: right;\n",
       "    }\n",
       "</style>\n",
       "<table border=\"1\" class=\"dataframe\">\n",
       "  <thead>\n",
       "    <tr style=\"text-align: right;\">\n",
       "      <th></th>\n",
       "      <th>index</th>\n",
       "      <th>user_id</th>\n",
       "      <th>month</th>\n",
       "      <th>city</th>\n",
       "      <th>tariff</th>\n",
       "      <th>is_active</th>\n",
       "      <th>duration</th>\n",
       "      <th>messages</th>\n",
       "      <th>gb_used</th>\n",
       "      <th>messages_included</th>\n",
       "      <th>gb_per_month_included</th>\n",
       "      <th>minutes_included</th>\n",
       "      <th>rub_monthly_fee</th>\n",
       "      <th>rub_per_gb</th>\n",
       "      <th>rub_per_message</th>\n",
       "      <th>rub_per_minute</th>\n",
       "    </tr>\n",
       "  </thead>\n",
       "  <tbody>\n",
       "  </tbody>\n",
       "</table>\n",
       "</div>"
      ],
      "text/plain": [
       "Empty DataFrame\n",
       "Columns: [index, user_id, month, city, tariff, is_active, duration, messages, gb_used, messages_included, gb_per_month_included, minutes_included, rub_monthly_fee, rub_per_gb, rub_per_message, rub_per_minute]\n",
       "Index: []"
      ]
     },
     "execution_count": 51,
     "metadata": {},
     "output_type": "execute_result"
    }
   ],
   "source": [
    "general_users.query('user_id == 1371')"
   ]
  },
  {
   "cell_type": "markdown",
   "id": "df06c345-af8b-461b-9e64-c4140143906d",
   "metadata": {},
   "source": [
    "Найдем количество минут, смс и гб сверх пакета для каждой строки таблицы, как разницу фактически потраченных и включенных по тем строкам, где фактически потраченные превышают включенные"
   ]
  },
  {
   "cell_type": "code",
   "execution_count": 52,
   "id": "9b2ead9b-1f11-4c5a-b809-dba7d4f79850",
   "metadata": {},
   "outputs": [
    {
     "data": {
      "text/html": [
       "<div>\n",
       "<style scoped>\n",
       "    .dataframe tbody tr th:only-of-type {\n",
       "        vertical-align: middle;\n",
       "    }\n",
       "\n",
       "    .dataframe tbody tr th {\n",
       "        vertical-align: top;\n",
       "    }\n",
       "\n",
       "    .dataframe thead th {\n",
       "        text-align: right;\n",
       "    }\n",
       "</style>\n",
       "<table border=\"1\" class=\"dataframe\">\n",
       "  <thead>\n",
       "    <tr style=\"text-align: right;\">\n",
       "      <th></th>\n",
       "      <th>index</th>\n",
       "      <th>user_id</th>\n",
       "      <th>month</th>\n",
       "      <th>city</th>\n",
       "      <th>tariff</th>\n",
       "      <th>is_active</th>\n",
       "      <th>duration</th>\n",
       "      <th>messages</th>\n",
       "      <th>gb_used</th>\n",
       "      <th>messages_included</th>\n",
       "      <th>gb_per_month_included</th>\n",
       "      <th>minutes_included</th>\n",
       "      <th>rub_monthly_fee</th>\n",
       "      <th>rub_per_gb</th>\n",
       "      <th>rub_per_message</th>\n",
       "      <th>rub_per_minute</th>\n",
       "      <th>over_minutes</th>\n",
       "      <th>over_gb</th>\n",
       "      <th>over_messages</th>\n",
       "    </tr>\n",
       "  </thead>\n",
       "  <tbody>\n",
       "    <tr>\n",
       "      <th>0</th>\n",
       "      <td>4</td>\n",
       "      <td>1000</td>\n",
       "      <td>5</td>\n",
       "      <td>Краснодар</td>\n",
       "      <td>ultra</td>\n",
       "      <td>True</td>\n",
       "      <td>159.0</td>\n",
       "      <td>22.0</td>\n",
       "      <td>3.0</td>\n",
       "      <td>1000</td>\n",
       "      <td>30</td>\n",
       "      <td>3000</td>\n",
       "      <td>1950</td>\n",
       "      <td>150</td>\n",
       "      <td>1</td>\n",
       "      <td>1</td>\n",
       "      <td>0.0</td>\n",
       "      <td>0.0</td>\n",
       "      <td>0.0</td>\n",
       "    </tr>\n",
       "    <tr>\n",
       "      <th>1</th>\n",
       "      <td>5</td>\n",
       "      <td>1000</td>\n",
       "      <td>6</td>\n",
       "      <td>Краснодар</td>\n",
       "      <td>ultra</td>\n",
       "      <td>True</td>\n",
       "      <td>172.0</td>\n",
       "      <td>60.0</td>\n",
       "      <td>23.0</td>\n",
       "      <td>1000</td>\n",
       "      <td>30</td>\n",
       "      <td>3000</td>\n",
       "      <td>1950</td>\n",
       "      <td>150</td>\n",
       "      <td>1</td>\n",
       "      <td>1</td>\n",
       "      <td>0.0</td>\n",
       "      <td>0.0</td>\n",
       "      <td>0.0</td>\n",
       "    </tr>\n",
       "    <tr>\n",
       "      <th>2</th>\n",
       "      <td>6</td>\n",
       "      <td>1000</td>\n",
       "      <td>7</td>\n",
       "      <td>Краснодар</td>\n",
       "      <td>ultra</td>\n",
       "      <td>True</td>\n",
       "      <td>340.0</td>\n",
       "      <td>75.0</td>\n",
       "      <td>14.0</td>\n",
       "      <td>1000</td>\n",
       "      <td>30</td>\n",
       "      <td>3000</td>\n",
       "      <td>1950</td>\n",
       "      <td>150</td>\n",
       "      <td>1</td>\n",
       "      <td>1</td>\n",
       "      <td>0.0</td>\n",
       "      <td>0.0</td>\n",
       "      <td>0.0</td>\n",
       "    </tr>\n",
       "    <tr>\n",
       "      <th>3</th>\n",
       "      <td>7</td>\n",
       "      <td>1000</td>\n",
       "      <td>8</td>\n",
       "      <td>Краснодар</td>\n",
       "      <td>ultra</td>\n",
       "      <td>True</td>\n",
       "      <td>408.0</td>\n",
       "      <td>81.0</td>\n",
       "      <td>14.0</td>\n",
       "      <td>1000</td>\n",
       "      <td>30</td>\n",
       "      <td>3000</td>\n",
       "      <td>1950</td>\n",
       "      <td>150</td>\n",
       "      <td>1</td>\n",
       "      <td>1</td>\n",
       "      <td>0.0</td>\n",
       "      <td>0.0</td>\n",
       "      <td>0.0</td>\n",
       "    </tr>\n",
       "    <tr>\n",
       "      <th>4</th>\n",
       "      <td>8</td>\n",
       "      <td>1000</td>\n",
       "      <td>9</td>\n",
       "      <td>Краснодар</td>\n",
       "      <td>ultra</td>\n",
       "      <td>True</td>\n",
       "      <td>466.0</td>\n",
       "      <td>57.0</td>\n",
       "      <td>15.0</td>\n",
       "      <td>1000</td>\n",
       "      <td>30</td>\n",
       "      <td>3000</td>\n",
       "      <td>1950</td>\n",
       "      <td>150</td>\n",
       "      <td>1</td>\n",
       "      <td>1</td>\n",
       "      <td>0.0</td>\n",
       "      <td>0.0</td>\n",
       "      <td>0.0</td>\n",
       "    </tr>\n",
       "  </tbody>\n",
       "</table>\n",
       "</div>"
      ],
      "text/plain": [
       "   index  user_id  month       city tariff  is_active  duration  messages  \\\n",
       "0      4     1000      5  Краснодар  ultra       True     159.0      22.0   \n",
       "1      5     1000      6  Краснодар  ultra       True     172.0      60.0   \n",
       "2      6     1000      7  Краснодар  ultra       True     340.0      75.0   \n",
       "3      7     1000      8  Краснодар  ultra       True     408.0      81.0   \n",
       "4      8     1000      9  Краснодар  ultra       True     466.0      57.0   \n",
       "\n",
       "   gb_used  messages_included  gb_per_month_included  minutes_included  \\\n",
       "0      3.0               1000                     30              3000   \n",
       "1     23.0               1000                     30              3000   \n",
       "2     14.0               1000                     30              3000   \n",
       "3     14.0               1000                     30              3000   \n",
       "4     15.0               1000                     30              3000   \n",
       "\n",
       "   rub_monthly_fee  rub_per_gb  rub_per_message  rub_per_minute  over_minutes  \\\n",
       "0             1950         150                1               1           0.0   \n",
       "1             1950         150                1               1           0.0   \n",
       "2             1950         150                1               1           0.0   \n",
       "3             1950         150                1               1           0.0   \n",
       "4             1950         150                1               1           0.0   \n",
       "\n",
       "   over_gb  over_messages  \n",
       "0      0.0            0.0  \n",
       "1      0.0            0.0  \n",
       "2      0.0            0.0  \n",
       "3      0.0            0.0  \n",
       "4      0.0            0.0  "
      ]
     },
     "execution_count": 52,
     "metadata": {},
     "output_type": "execute_result"
    }
   ],
   "source": [
    "general_users['over_minutes'] = (\n",
    "    (general_users['duration']-general_users['minutes_included'])\n",
    "                                 .where(general_users['duration']>general_users['minutes_included'], 0)\n",
    ")\n",
    "\n",
    "general_users['over_gb'] = (\n",
    "    (general_users['gb_used']-general_users['gb_per_month_included'])\n",
    "                                 .where(general_users['gb_used']>general_users['gb_per_month_included'], 0)\n",
    ")\n",
    "\n",
    "general_users['over_messages'] = (\n",
    "    (general_users['messages']-general_users['messages_included'])\n",
    "                                 .where(general_users['messages']>general_users['messages_included'], 0)\n",
    ")\n",
    "general_users.head()"
   ]
  },
  {
   "cell_type": "markdown",
   "id": "017a1a6b-66fb-4aab-814a-7d4c0b7d5694",
   "metadata": {},
   "source": [
    "Найдем итоговую выручку компании за месяц, как сумму базовой стоимости пакета + сумма произведений количества гб, смс и минут на стоимость гб, смс и минуты пакета соответственно."
   ]
  },
  {
   "cell_type": "code",
   "execution_count": 53,
   "id": "db0fdfde-e8ed-44cf-bfa8-6df0d3c064bb",
   "metadata": {},
   "outputs": [
    {
     "data": {
      "text/plain": [
       "<bound method NDFrame.head of 0       1950.0\n",
       "1       1950.0\n",
       "2       1950.0\n",
       "3       1950.0\n",
       "4       1950.0\n",
       "         ...  \n",
       "3209    1750.0\n",
       "3210     550.0\n",
       "3211    1150.0\n",
       "3212    1513.0\n",
       "3213     598.0\n",
       "Name: total_sum, Length: 3214, dtype: float64>"
      ]
     },
     "execution_count": 53,
     "metadata": {},
     "output_type": "execute_result"
    }
   ],
   "source": [
    "general_users['total_sum'] = (\n",
    "    general_users['rub_monthly_fee'] #базовая стоимость пакета\n",
    "    + general_users['rub_per_minute'] * general_users['over_minutes'] #доп минуты\n",
    "    + general_users['rub_per_message'] * general_users['over_messages'] #доп смс\n",
    "    + general_users['rub_per_gb'] * general_users['over_gb'] #доп гб\n",
    ")\n",
    "general_users['total_sum'].head"
   ]
  },
  {
   "cell_type": "markdown",
   "id": "caf00a2e-39f6-4322-ba85-507e9af21f61",
   "metadata": {},
   "source": [
    "### Ограничения: \n",
    "1. Не учтена дата начала пользования пакетом.\n",
    "2. Не учтена дата окончания пользования пакетом. \n",
    "3. Не учтены исторические изменения в тарифах"
   ]
  },
  {
   "cell_type": "markdown",
   "id": "4d75ab6e-4aed-49f7-8404-63dca04cb8ee",
   "metadata": {},
   "source": [
    "## Изучение поведения пользователей в зависимости от  выбранного тарифа"
   ]
  },
  {
   "cell_type": "markdown",
   "id": "9b14eb7d-02e7-4df4-ac87-023e815353fe",
   "metadata": {},
   "source": [
    "Создадим отдельные таблицы с пользователями тарифа smart и ultra для удобства анализа"
   ]
  },
  {
   "cell_type": "code",
   "execution_count": 54,
   "id": "d00bb8be-988e-4134-96ce-9a5b1cea21c6",
   "metadata": {},
   "outputs": [],
   "source": [
    "general_smart = general_users.query('tariff == \"smart\"')\n",
    "general_ultra = general_users.query('tariff == \"ultra\"')"
   ]
  },
  {
   "cell_type": "markdown",
   "id": "8beffd18-434b-4efb-922a-5ed6045042aa",
   "metadata": {},
   "source": [
    "### Изучим пользовательский опыт клиентов с тарифом \"Smart\"\n"
   ]
  },
  {
   "cell_type": "code",
   "execution_count": 55,
   "id": "2edf28e1-d483-4a52-acde-7a2aae618e73",
   "metadata": {},
   "outputs": [
    {
     "data": {
      "image/png": "[encoded data removed]",
      "text/plain": [
       "<Figure size 640x480 with 1 Axes>"
      ]
     },
     "metadata": {},
     "output_type": "display_data"
    },
    {
     "data": {
      "image/png": "[encoded data removed]",
      "text/plain": [
       "<Figure size 640x480 with 1 Axes>"
      ]
     },
     "metadata": {},
     "output_type": "display_data"
    },
    {
     "name": "stdout",
     "output_type": "stream",
     "text": [
      "36203.066652094654\n"
     ]
    },
    {
     "data": {
      "text/plain": [
       "count    2229.000000\n",
       "mean      417.934948\n",
       "std       190.313730\n",
       "min         0.000000\n",
       "25%       282.000000\n",
       "50%       422.000000\n",
       "75%       545.000000\n",
       "max      1435.000000\n",
       "Name: duration, dtype: float64"
      ]
     },
     "execution_count": 55,
     "metadata": {},
     "output_type": "execute_result"
    }
   ],
   "source": [
    "general_smart['duration'].plot(kind = 'hist',grid = True, title ='Продолжительность звонков')\n",
    "plt.pyplot.show()\n",
    "general_smart.boxplot(column = 'duration')\n",
    "plt.pyplot.show()\n",
    "print (np.var(general_smart['duration']))\n",
    "general_smart['duration'].describe()"
   ]
  },
  {
   "cell_type": "markdown",
   "id": "6ac4b79a-af30-48f8-a2c4-2750779a4a62",
   "metadata": {},
   "source": [
    "Большинство пользователей укладываются в ограничение по количеству смс.\n",
    "Медиана = 34 смс, стандартное отклоненеие = 26. \n",
    "Значительное количетво измерений находится вне нормального распределения. "
   ]
  },
  {
   "cell_type": "code",
   "execution_count": 56,
   "id": "4056ad8f-bde8-499a-ac1f-b44e636333c6",
   "metadata": {},
   "outputs": [
    {
     "data": {
      "image/png": "[encoded data removed]",
      "text/plain": [
       "<Figure size 1500x1000 with 1 Axes>"
      ]
     },
     "metadata": {},
     "output_type": "display_data"
    },
    {
     "data": {
      "image/png": "[encoded data removed]",
      "text/plain": [
       "<Figure size 500x1000 with 1 Axes>"
      ]
     },
     "metadata": {},
     "output_type": "display_data"
    },
    {
     "name": "stdout",
     "output_type": "stream",
     "text": [
      "33.01388745483741\n"
     ]
    },
    {
     "data": {
      "text/plain": [
       "count    2229.000000\n",
       "mean       16.328847\n",
       "std         5.747061\n",
       "min         0.000000\n",
       "25%        13.000000\n",
       "50%        17.000000\n",
       "75%        20.000000\n",
       "max        38.000000\n",
       "Name: gb_used, dtype: float64"
      ]
     },
     "execution_count": 56,
     "metadata": {},
     "output_type": "execute_result"
    }
   ],
   "source": [
    "general_smart['gb_used'].plot(kind = 'hist', figsize = (15,10),grid = True, title = 'Использование гб')\n",
    "plt.pyplot.show()\n",
    "general_smart.boxplot(column = 'messages', figsize = (5,10))\n",
    "plt.pyplot.show()\n",
    "print (np.var(general_smart['gb_used']))\n",
    "general_smart['gb_used'].describe()"
   ]
  },
  {
   "cell_type": "markdown",
   "id": "188598f9-08e1-4f8a-82c6-c8aaa2f709bc",
   "metadata": {},
   "source": [
    "Данные скошены влево, медиана = 427 минут, средняя продолжительность звонков = 421 минуту, стандартное отклонение = 187,5 минут. Единичные данные находятся за пределами номального распределения. "
   ]
  },
  {
   "cell_type": "code",
   "execution_count": 57,
   "id": "5efceec0-c021-4d77-9ae6-621b0e821526",
   "metadata": {},
   "outputs": [
    {
     "data": {
      "image/png": "[encoded data removed]",
      "text/plain": [
       "<Figure size 640x480 with 1 Axes>"
      ]
     },
     "metadata": {},
     "output_type": "display_data"
    },
    {
     "data": {
      "image/png": "[encoded data removed]",
      "text/plain": [
       "<Figure size 640x480 with 1 Axes>"
      ]
     },
     "metadata": {},
     "output_type": "display_data"
    },
    {
     "name": "stdout",
     "output_type": "stream",
     "text": [
      "796.455482917076\n"
     ]
    },
    {
     "data": {
      "text/plain": [
       "count    2229.000000\n",
       "mean       33.384029\n",
       "std        28.227876\n",
       "min         0.000000\n",
       "25%        10.000000\n",
       "50%        28.000000\n",
       "75%        51.000000\n",
       "max       143.000000\n",
       "Name: messages, dtype: float64"
      ]
     },
     "execution_count": 57,
     "metadata": {},
     "output_type": "execute_result"
    }
   ],
   "source": [
    "general_smart['messages'].plot(kind = 'hist',grid = True, title = 'количество отправленных смс')\n",
    "plt.pyplot.show()\n",
    "general_smart.boxplot(column = 'messages')\n",
    "plt.pyplot.show()\n",
    "print (np.var(general_smart['messages']))\n",
    "general_smart['messages'].describe()"
   ]
  },
  {
   "cell_type": "markdown",
   "id": "15f8e5cc-fa8a-40c1-b798-e86a679c76fa",
   "metadata": {},
   "source": [
    "Большинство пользователей укладываются в ограничение по количеству смс.\r\n",
    "Медиана = 34 смс, стандартное отклоненеие = 26. \r\n",
    "Значительное количетво измерений находится вне нормального распределения. "
   ]
  },
  {
   "cell_type": "code",
   "execution_count": 58,
   "id": "61033ec8-6932-4c09-b418-83efe004ef78",
   "metadata": {},
   "outputs": [
    {
     "data": {
      "image/png": "[encoded data removed]",
      "text/plain": [
       "<Figure size 1500x1000 with 1 Axes>"
      ]
     },
     "metadata": {},
     "output_type": "display_data"
    },
    {
     "data": {
      "image/png": "[encoded data removed]",
      "text/plain": [
       "<Figure size 500x1000 with 1 Axes>"
      ]
     },
     "metadata": {},
     "output_type": "display_data"
    },
    {
     "name": "stdout",
     "output_type": "stream",
     "text": [
      "33.01388745483741\n"
     ]
    },
    {
     "data": {
      "text/plain": [
       "count    2229.000000\n",
       "mean       16.328847\n",
       "std         5.747061\n",
       "min         0.000000\n",
       "25%        13.000000\n",
       "50%        17.000000\n",
       "75%        20.000000\n",
       "max        38.000000\n",
       "Name: gb_used, dtype: float64"
      ]
     },
     "execution_count": 58,
     "metadata": {},
     "output_type": "execute_result"
    }
   ],
   "source": [
    "general_smart['gb_used'].plot(kind = 'hist', figsize = (15,10),grid = True, title = 'Использование гб')\n",
    "plt.pyplot.show()\n",
    "general_smart.boxplot(column = 'messages', figsize = (5,10))\n",
    "plt.pyplot.show()\n",
    "print (np.var(general_smart['gb_used']))\n",
    "general_smart['gb_used'].describe()"
   ]
  },
  {
   "cell_type": "markdown",
   "id": "15a6e5f2-a30f-4936-939b-95ecbe60bfa6",
   "metadata": {},
   "source": [
    "Найдем доли пользователей, не уложившихся в тарифные лимиты"
   ]
  },
  {
   "cell_type": "code",
   "execution_count": 59,
   "id": "6dd2647d-4cd2-460f-aeb9-5cf6dd6a3e8b",
   "metadata": {},
   "outputs": [
    {
     "name": "stdout",
     "output_type": "stream",
     "text": [
      "0.3382682817406909\n",
      "0.253028263795424\n",
      "0.5850157021085689\n"
     ]
    }
   ],
   "source": [
    "print (sum(general_smart['over_minutes']>0)/len(general_smart))\n",
    "print (sum(general_smart['over_messages']>0)/len(general_smart))\n",
    "print (sum(general_smart['over_gb']>0)/len(general_smart))"
   ]
  },
  {
   "cell_type": "markdown",
   "id": "6373db64-a6f3-473d-8763-c0dba90e75eb",
   "metadata": {},
   "source": [
    "Найдем среднюю выручку и размер переплаты"
   ]
  },
  {
   "cell_type": "code",
   "execution_count": 60,
   "id": "2faf452c-0a2b-48c5-a6b1-23ed31e997be",
   "metadata": {},
   "outputs": [
    {
     "data": {
      "text/plain": [
       "27"
      ]
     },
     "execution_count": 60,
     "metadata": {},
     "output_type": "execute_result"
    }
   ],
   "source": [
    "smart_max_boarder = (general_smart['total_sum'].mean() + np.std(general_smart['total_sum'])*3)\n",
    "sum(general_smart['total_sum']>smart_max_boarder)"
   ]
  },
  {
   "cell_type": "markdown",
   "id": "8e2c72fa-51bb-45af-9ea1-e7c1d924faf8",
   "metadata": {},
   "source": [
    "27 случаев, когда итоговая сумма заплаченная за месяц превышает три стандартных отклонения. Исключим эти данные из таблицы для дальнейшего анализа. "
   ]
  },
  {
   "cell_type": "markdown",
   "id": "3b8ddeec-9d64-4ed6-90c5-64405cdae8f6",
   "metadata": {},
   "source": [
    "#### Выводы о пользовтельском опыте клиентов тарифа \"smart\"\r\n",
    "1. 33 % пользователей не укладываются в лимит по минутам. 29% пользователей не укладываются в лимит по смс. 58% пользователей не укладываются в лимит по гб пакета. \r\n",
    "2. Медианное значение суммы пользования тарифом smart составляет 1012 рублей, средняя сумма, которую платят пользователи составляет 1291 рубль. "
   ]
  },
  {
   "cell_type": "markdown",
   "id": "aeab6d0c-fd79-49c4-b5e4-327766fe90e1",
   "metadata": {},
   "source": [
    "### Изучим пользовательский опыт клиентов с тарифом \"Ultra\""
   ]
  },
  {
   "cell_type": "code",
   "execution_count": 61,
   "id": "618248d9-7382-4c12-a260-9eed505f562c",
   "metadata": {},
   "outputs": [
    {
     "data": {
      "image/png": "[encoded data removed]",
      "text/plain": [
       "<Figure size 640x480 with 1 Axes>"
      ]
     },
     "metadata": {},
     "output_type": "display_data"
    },
    {
     "data": {
      "image/png": "[encoded data removed]",
      "text/plain": [
       "<Figure size 640x480 with 1 Axes>"
      ]
     },
     "metadata": {},
     "output_type": "display_data"
    },
    {
     "name": "stdout",
     "output_type": "stream",
     "text": [
      "100771.22361720214\n"
     ]
    },
    {
     "data": {
      "text/plain": [
       "count     985.000000\n",
       "mean      526.623350\n",
       "std       317.606098\n",
       "min         0.000000\n",
       "25%       284.000000\n",
       "50%       518.000000\n",
       "75%       752.000000\n",
       "max      1673.000000\n",
       "Name: duration, dtype: float64"
      ]
     },
     "execution_count": 61,
     "metadata": {},
     "output_type": "execute_result"
    }
   ],
   "source": [
    "general_ultra['duration'].plot(kind = 'hist',grid = True, title ='Продолжительность звонков')\n",
    "plt.pyplot.show()\n",
    "general_ultra.boxplot(column = 'duration')\n",
    "plt.pyplot.show()\n",
    "print (np.var(general_ultra['duration']))\n",
    "general_ultra['duration'].describe()\n"
   ]
  },
  {
   "cell_type": "markdown",
   "id": "b67a9f9d-2966-418a-a8c0-ee3f490a1626",
   "metadata": {},
   "source": [
    "На графиках видно только три случая, когда пользователь превысил лимит минут по тарифу. \n",
    "В среднем пользователи используют 557 минут звонков. \n",
    "Медианное значение составляет 538 минут, стандартное отклонение 311 минут. "
   ]
  },
  {
   "cell_type": "code",
   "execution_count": 62,
   "id": "461ecf34-ef44-4e59-94c9-946ee7a49602",
   "metadata": {},
   "outputs": [
    {
     "data": {
      "image/png": "[encoded data removed]",
      "text/plain": [
       "<Figure size 640x480 with 1 Axes>"
      ]
     },
     "metadata": {},
     "output_type": "display_data"
    },
    {
     "data": {
      "image/png": "[encoded data removed]",
      "text/plain": [
       "<Figure size 640x480 with 1 Axes>"
      ]
     },
     "metadata": {},
     "output_type": "display_data"
    },
    {
     "name": "stdout",
     "output_type": "stream",
     "text": [
      "2282.946075394892\n"
     ]
    },
    {
     "data": {
      "text/plain": [
       "count    985.000000\n",
       "mean      49.363452\n",
       "std       47.804457\n",
       "min        0.000000\n",
       "25%        6.000000\n",
       "50%       38.000000\n",
       "75%       79.000000\n",
       "max      224.000000\n",
       "Name: messages, dtype: float64"
      ]
     },
     "execution_count": 62,
     "metadata": {},
     "output_type": "execute_result"
    }
   ],
   "source": [
    "general_ultra['messages'].plot(kind = 'hist',grid = True, title = 'количество отправленных смс')\n",
    "general_smart['messages'].plot(kind = 'hist',grid = True, title = 'количество отправленных смс', alpha = 0.5)\n",
    "plt.pyplot.show()\n",
    "general_ultra.boxplot(column = 'messages')\n",
    "plt.pyplot.show()\n",
    "print (np.var(general_ultra['messages']))\n",
    "general_ultra['messages'].describe()"
   ]
  },
  {
   "cell_type": "markdown",
   "id": "5071c706-18ef-4797-a43c-079b4dfb90ea",
   "metadata": {},
   "source": [
    "Ни один из пользователей тарифа ultra не израсходовал лимит смс. \r\n",
    "Максимальное значение составляет 224 смс сообщения, среднее 61 сообщение."
   ]
  },
  {
   "cell_type": "code",
   "execution_count": 63,
   "id": "2a00a5c2-cad9-4fe9-8cd3-058ccb5f739a",
   "metadata": {},
   "outputs": [
    {
     "data": {
      "image/png": "[encoded data removed]",
      "text/plain": [
       "<Figure size 1500x1000 with 1 Axes>"
      ]
     },
     "metadata": {},
     "output_type": "display_data"
    },
    {
     "data": {
      "image/png": "[encoded data removed]",
      "text/plain": [
       "<Figure size 500x1000 with 1 Axes>"
      ]
     },
     "metadata": {},
     "output_type": "display_data"
    },
    {
     "name": "stdout",
     "output_type": "stream",
     "text": [
      "96.99311602978702\n"
     ]
    },
    {
     "data": {
      "text/plain": [
       "count    985.000000\n",
       "mean      19.494416\n",
       "std        9.853511\n",
       "min        0.000000\n",
       "25%       12.000000\n",
       "50%       19.000000\n",
       "75%       27.000000\n",
       "max       49.000000\n",
       "Name: gb_used, dtype: float64"
      ]
     },
     "execution_count": 63,
     "metadata": {},
     "output_type": "execute_result"
    }
   ],
   "source": [
    "general_ultra['gb_used'].plot(kind = 'hist', figsize = (15,10),grid = True, title = 'Использование гб')\n",
    "general_smart['gb_used'].plot(kind = 'hist', figsize = (15,10),grid = True, title = 'Использование гб', alpha = 0.5)\n",
    "plt.pyplot.show()\n",
    "general_ultra.boxplot(column = 'gb_used', figsize = (5,10))\n",
    "plt.pyplot.show()\n",
    "print (np.var(general_ultra['gb_used']))\n",
    "general_ultra['gb_used'].describe()"
   ]
  },
  {
   "cell_type": "markdown",
   "id": "db8a237e-91ff-4082-824d-d4bc6e450727",
   "metadata": {},
   "source": [
    "Значения распределены нормально, максимальное значение составляет 49 гб использованных гб в месяц, среднее - 19, медианное - 19. "
   ]
  },
  {
   "cell_type": "code",
   "execution_count": 64,
   "id": "c3f95cdb-5977-4338-875e-33103d832ea1",
   "metadata": {},
   "outputs": [
    {
     "name": "stdout",
     "output_type": "stream",
     "text": [
      "0.0\n",
      "0.0\n",
      "0.13604060913705585\n"
     ]
    }
   ],
   "source": [
    "print (sum(general_ultra['over_minutes']>0)/len(general_ultra))\n",
    "print (sum(general_ultra['over_messages']>0)/len(general_ultra))\n",
    "print (sum(general_ultra['over_gb']>0)/len(general_ultra))"
   ]
  },
  {
   "cell_type": "markdown",
   "id": "d5bf38ff-2b35-4bf4-8052-9270026dc1ab",
   "metadata": {},
   "source": [
    "12% пользователей пакета ultra не укладываются в тарифные лимиты по гб."
   ]
  },
  {
   "cell_type": "markdown",
   "id": "dd88b2a4-23d4-4e80-9251-03bb4f4be8b1",
   "metadata": {},
   "source": [
    "### Анализ размера выручки в зависимости от тарифа"
   ]
  },
  {
   "cell_type": "code",
   "execution_count": 65,
   "id": "f0bbcda0-2c3d-4578-87d0-30c8babc4ecf",
   "metadata": {},
   "outputs": [
    {
     "data": {
      "image/png": "[encoded data removed]",
      "text/plain": [
       "<Figure size 640x480 with 1 Axes>"
      ]
     },
     "metadata": {},
     "output_type": "display_data"
    },
    {
     "data": {
      "image/png": "[encoded data removed]",
      "text/plain": [
       "<Figure size 640x480 with 1 Axes>"
      ]
     },
     "metadata": {},
     "output_type": "display_data"
    },
    {
     "name": "stdout",
     "output_type": "stream",
     "text": [
      "141373.07325620216\n"
     ]
    },
    {
     "data": {
      "text/plain": [
       "count     985.000000\n",
       "mean     2070.152284\n",
       "std       376.187114\n",
       "min      1950.000000\n",
       "25%      1950.000000\n",
       "50%      1950.000000\n",
       "75%      1950.000000\n",
       "max      4800.000000\n",
       "Name: total_sum, dtype: float64"
      ]
     },
     "execution_count": 65,
     "metadata": {},
     "output_type": "execute_result"
    },
    {
     "data": {
      "image/png": "[encoded data removed]",
      "text/plain": [
       "<Figure size 1000x1500 with 1 Axes>"
      ]
     },
     "metadata": {},
     "output_type": "display_data"
    }
   ],
   "source": [
    "#Тариф ультра\n",
    "general_ultra['total_sum'].plot(grid = True, kind = 'hist', title = 'Выручка')\n",
    "plt.pyplot.show()\n",
    "general_ultra['total_sum'].plot(grid = True, kind = 'hist', range = (1900,2200), title = 'Распределение выручки от 0 до 1500')\n",
    "plt.pyplot.show()\n",
    "general_ultra.boxplot(column = 'total_sum', figsize = (10,15))\n",
    "print (np.var(general_ultra['total_sum']))\n",
    "general_ultra['total_sum'].describe()\n"
   ]
  },
  {
   "cell_type": "code",
   "execution_count": 66,
   "id": "8adea241-1a8b-49dc-9ca3-60647be28a78",
   "metadata": {},
   "outputs": [
    {
     "data": {
      "image/png": "[encoded data removed]",
      "text/plain": [
       "<Figure size 640x480 with 1 Axes>"
      ]
     },
     "metadata": {},
     "output_type": "display_data"
    },
    {
     "data": {
      "image/png": "[encoded data removed]",
      "text/plain": [
       "<Figure size 640x480 with 1 Axes>"
      ]
     },
     "metadata": {},
     "output_type": "display_data"
    },
    {
     "name": "stdout",
     "output_type": "stream",
     "text": [
      "669485.2209234155\n"
     ]
    },
    {
     "data": {
      "text/plain": [
       "count    2229.000000\n",
       "mean     1289.973531\n",
       "std       818.404367\n",
       "min       550.000000\n",
       "25%       550.000000\n",
       "50%      1023.000000\n",
       "75%      1750.000000\n",
       "max      6770.000000\n",
       "Name: total_sum, dtype: float64"
      ]
     },
     "execution_count": 66,
     "metadata": {},
     "output_type": "execute_result"
    },
    {
     "data": {
      "image/png": "[encoded data removed]",
      "text/plain": [
       "<Figure size 1000x1500 with 1 Axes>"
      ]
     },
     "metadata": {},
     "output_type": "display_data"
    }
   ],
   "source": [
    "# Тариф Смарт\n",
    "general_smart['total_sum'].plot(grid = True, kind = 'hist', title = 'Выручка')\n",
    "plt.pyplot.show()\n",
    "general_smart['total_sum'].plot(grid = True, kind = 'hist', range = (0,1500), title = 'Распределение выручки от 0 до 1500')\n",
    "plt.pyplot.show()\n",
    "general_smart.boxplot(column = 'total_sum', figsize = (10,15))\n",
    "print (np.var(general_smart['total_sum']))\n",
    "general_smart['total_sum'].describe()"
   ]
  },
  {
   "cell_type": "markdown",
   "id": "152ffd90-8897-48d9-8072-7b4ba1f25f3f",
   "metadata": {},
   "source": [
    "Каждый квартиль клиентов тарифа ультра превышает размер каждого квартиля клиентов тарифа смарт. Необходимо проверить гипотезу о равенстве средних чеков тарифов."
   ]
  },
  {
   "cell_type": "markdown",
   "id": "79fd6ca5-4f86-48c8-988c-d85851232883",
   "metadata": {},
   "source": [
    "## Изучение поведения пользователей в зависимости от географического признака"
   ]
  },
  {
   "cell_type": "markdown",
   "id": "39ee90ad-5da5-49e6-bcef-b9908bfe4f6d",
   "metadata": {},
   "source": [
    "Составим отделные датафреймы для Москвичей и клиентов из других регонов. "
   ]
  },
  {
   "cell_type": "code",
   "execution_count": 67,
   "id": "89e92e9f-8946-489a-aa8a-9a0857eb0ea2",
   "metadata": {},
   "outputs": [
    {
     "data": {
      "text/html": [
       "<div>\n",
       "<style scoped>\n",
       "    .dataframe tbody tr th:only-of-type {\n",
       "        vertical-align: middle;\n",
       "    }\n",
       "\n",
       "    .dataframe tbody tr th {\n",
       "        vertical-align: top;\n",
       "    }\n",
       "\n",
       "    .dataframe thead th {\n",
       "        text-align: right;\n",
       "    }\n",
       "</style>\n",
       "<table border=\"1\" class=\"dataframe\">\n",
       "  <thead>\n",
       "    <tr style=\"text-align: right;\">\n",
       "      <th></th>\n",
       "      <th>index</th>\n",
       "      <th>user_id</th>\n",
       "      <th>month</th>\n",
       "      <th>city</th>\n",
       "      <th>tariff</th>\n",
       "      <th>is_active</th>\n",
       "      <th>duration</th>\n",
       "      <th>messages</th>\n",
       "      <th>gb_used</th>\n",
       "      <th>messages_included</th>\n",
       "      <th>gb_per_month_included</th>\n",
       "      <th>minutes_included</th>\n",
       "      <th>rub_monthly_fee</th>\n",
       "      <th>rub_per_gb</th>\n",
       "      <th>rub_per_message</th>\n",
       "      <th>rub_per_minute</th>\n",
       "      <th>over_minutes</th>\n",
       "      <th>over_gb</th>\n",
       "      <th>over_messages</th>\n",
       "      <th>total_sum</th>\n",
       "    </tr>\n",
       "  </thead>\n",
       "  <tbody>\n",
       "    <tr>\n",
       "      <th>8</th>\n",
       "      <td>19</td>\n",
       "      <td>1003</td>\n",
       "      <td>8</td>\n",
       "      <td>Москва</td>\n",
       "      <td>ultra</td>\n",
       "      <td>True</td>\n",
       "      <td>380.0</td>\n",
       "      <td>37.0</td>\n",
       "      <td>9.0</td>\n",
       "      <td>1000</td>\n",
       "      <td>30</td>\n",
       "      <td>3000</td>\n",
       "      <td>1950</td>\n",
       "      <td>150</td>\n",
       "      <td>1</td>\n",
       "      <td>1</td>\n",
       "      <td>0.0</td>\n",
       "      <td>0.0</td>\n",
       "      <td>0.0</td>\n",
       "      <td>1950.0</td>\n",
       "    </tr>\n",
       "    <tr>\n",
       "      <th>9</th>\n",
       "      <td>20</td>\n",
       "      <td>1003</td>\n",
       "      <td>9</td>\n",
       "      <td>Москва</td>\n",
       "      <td>ultra</td>\n",
       "      <td>True</td>\n",
       "      <td>961.0</td>\n",
       "      <td>91.0</td>\n",
       "      <td>13.0</td>\n",
       "      <td>1000</td>\n",
       "      <td>30</td>\n",
       "      <td>3000</td>\n",
       "      <td>1950</td>\n",
       "      <td>150</td>\n",
       "      <td>1</td>\n",
       "      <td>1</td>\n",
       "      <td>0.0</td>\n",
       "      <td>0.0</td>\n",
       "      <td>0.0</td>\n",
       "      <td>1950.0</td>\n",
       "    </tr>\n",
       "    <tr>\n",
       "      <th>10</th>\n",
       "      <td>21</td>\n",
       "      <td>1003</td>\n",
       "      <td>10</td>\n",
       "      <td>Москва</td>\n",
       "      <td>ultra</td>\n",
       "      <td>True</td>\n",
       "      <td>855.0</td>\n",
       "      <td>83.0</td>\n",
       "      <td>15.0</td>\n",
       "      <td>1000</td>\n",
       "      <td>30</td>\n",
       "      <td>3000</td>\n",
       "      <td>1950</td>\n",
       "      <td>150</td>\n",
       "      <td>1</td>\n",
       "      <td>1</td>\n",
       "      <td>0.0</td>\n",
       "      <td>0.0</td>\n",
       "      <td>0.0</td>\n",
       "      <td>1950.0</td>\n",
       "    </tr>\n",
       "    <tr>\n",
       "      <th>11</th>\n",
       "      <td>22</td>\n",
       "      <td>1003</td>\n",
       "      <td>11</td>\n",
       "      <td>Москва</td>\n",
       "      <td>ultra</td>\n",
       "      <td>True</td>\n",
       "      <td>824.0</td>\n",
       "      <td>94.0</td>\n",
       "      <td>12.0</td>\n",
       "      <td>1000</td>\n",
       "      <td>30</td>\n",
       "      <td>3000</td>\n",
       "      <td>1950</td>\n",
       "      <td>150</td>\n",
       "      <td>1</td>\n",
       "      <td>1</td>\n",
       "      <td>0.0</td>\n",
       "      <td>0.0</td>\n",
       "      <td>0.0</td>\n",
       "      <td>1950.0</td>\n",
       "    </tr>\n",
       "    <tr>\n",
       "      <th>12</th>\n",
       "      <td>23</td>\n",
       "      <td>1003</td>\n",
       "      <td>12</td>\n",
       "      <td>Москва</td>\n",
       "      <td>ultra</td>\n",
       "      <td>True</td>\n",
       "      <td>802.0</td>\n",
       "      <td>75.0</td>\n",
       "      <td>10.0</td>\n",
       "      <td>1000</td>\n",
       "      <td>30</td>\n",
       "      <td>3000</td>\n",
       "      <td>1950</td>\n",
       "      <td>150</td>\n",
       "      <td>1</td>\n",
       "      <td>1</td>\n",
       "      <td>0.0</td>\n",
       "      <td>0.0</td>\n",
       "      <td>0.0</td>\n",
       "      <td>1950.0</td>\n",
       "    </tr>\n",
       "    <tr>\n",
       "      <th>...</th>\n",
       "      <td>...</td>\n",
       "      <td>...</td>\n",
       "      <td>...</td>\n",
       "      <td>...</td>\n",
       "      <td>...</td>\n",
       "      <td>...</td>\n",
       "      <td>...</td>\n",
       "      <td>...</td>\n",
       "      <td>...</td>\n",
       "      <td>...</td>\n",
       "      <td>...</td>\n",
       "      <td>...</td>\n",
       "      <td>...</td>\n",
       "      <td>...</td>\n",
       "      <td>...</td>\n",
       "      <td>...</td>\n",
       "      <td>...</td>\n",
       "      <td>...</td>\n",
       "      <td>...</td>\n",
       "      <td>...</td>\n",
       "    </tr>\n",
       "    <tr>\n",
       "      <th>3174</th>\n",
       "      <td>5923</td>\n",
       "      <td>1490</td>\n",
       "      <td>8</td>\n",
       "      <td>Москва</td>\n",
       "      <td>smart</td>\n",
       "      <td>True</td>\n",
       "      <td>346.0</td>\n",
       "      <td>50.0</td>\n",
       "      <td>17.0</td>\n",
       "      <td>50</td>\n",
       "      <td>15</td>\n",
       "      <td>500</td>\n",
       "      <td>550</td>\n",
       "      <td>200</td>\n",
       "      <td>3</td>\n",
       "      <td>3</td>\n",
       "      <td>0.0</td>\n",
       "      <td>2.0</td>\n",
       "      <td>0.0</td>\n",
       "      <td>950.0</td>\n",
       "    </tr>\n",
       "    <tr>\n",
       "      <th>3175</th>\n",
       "      <td>5924</td>\n",
       "      <td>1490</td>\n",
       "      <td>9</td>\n",
       "      <td>Москва</td>\n",
       "      <td>smart</td>\n",
       "      <td>True</td>\n",
       "      <td>322.0</td>\n",
       "      <td>48.0</td>\n",
       "      <td>15.0</td>\n",
       "      <td>50</td>\n",
       "      <td>15</td>\n",
       "      <td>500</td>\n",
       "      <td>550</td>\n",
       "      <td>200</td>\n",
       "      <td>3</td>\n",
       "      <td>3</td>\n",
       "      <td>0.0</td>\n",
       "      <td>0.0</td>\n",
       "      <td>0.0</td>\n",
       "      <td>550.0</td>\n",
       "    </tr>\n",
       "    <tr>\n",
       "      <th>3176</th>\n",
       "      <td>5925</td>\n",
       "      <td>1490</td>\n",
       "      <td>10</td>\n",
       "      <td>Москва</td>\n",
       "      <td>smart</td>\n",
       "      <td>True</td>\n",
       "      <td>312.0</td>\n",
       "      <td>45.0</td>\n",
       "      <td>21.0</td>\n",
       "      <td>50</td>\n",
       "      <td>15</td>\n",
       "      <td>500</td>\n",
       "      <td>550</td>\n",
       "      <td>200</td>\n",
       "      <td>3</td>\n",
       "      <td>3</td>\n",
       "      <td>0.0</td>\n",
       "      <td>6.0</td>\n",
       "      <td>0.0</td>\n",
       "      <td>1750.0</td>\n",
       "    </tr>\n",
       "    <tr>\n",
       "      <th>3177</th>\n",
       "      <td>5926</td>\n",
       "      <td>1490</td>\n",
       "      <td>11</td>\n",
       "      <td>Москва</td>\n",
       "      <td>smart</td>\n",
       "      <td>True</td>\n",
       "      <td>282.0</td>\n",
       "      <td>47.0</td>\n",
       "      <td>19.0</td>\n",
       "      <td>50</td>\n",
       "      <td>15</td>\n",
       "      <td>500</td>\n",
       "      <td>550</td>\n",
       "      <td>200</td>\n",
       "      <td>3</td>\n",
       "      <td>3</td>\n",
       "      <td>0.0</td>\n",
       "      <td>4.0</td>\n",
       "      <td>0.0</td>\n",
       "      <td>1350.0</td>\n",
       "    </tr>\n",
       "    <tr>\n",
       "      <th>3178</th>\n",
       "      <td>5927</td>\n",
       "      <td>1490</td>\n",
       "      <td>12</td>\n",
       "      <td>Москва</td>\n",
       "      <td>smart</td>\n",
       "      <td>True</td>\n",
       "      <td>290.0</td>\n",
       "      <td>46.0</td>\n",
       "      <td>16.0</td>\n",
       "      <td>50</td>\n",
       "      <td>15</td>\n",
       "      <td>500</td>\n",
       "      <td>550</td>\n",
       "      <td>200</td>\n",
       "      <td>3</td>\n",
       "      <td>3</td>\n",
       "      <td>0.0</td>\n",
       "      <td>1.0</td>\n",
       "      <td>0.0</td>\n",
       "      <td>750.0</td>\n",
       "    </tr>\n",
       "  </tbody>\n",
       "</table>\n",
       "<p>611 rows × 20 columns</p>\n",
       "</div>"
      ],
      "text/plain": [
       "      index  user_id  month    city tariff  is_active  duration  messages  \\\n",
       "8        19     1003      8  Москва  ultra       True     380.0      37.0   \n",
       "9        20     1003      9  Москва  ultra       True     961.0      91.0   \n",
       "10       21     1003     10  Москва  ultra       True     855.0      83.0   \n",
       "11       22     1003     11  Москва  ultra       True     824.0      94.0   \n",
       "12       23     1003     12  Москва  ultra       True     802.0      75.0   \n",
       "...     ...      ...    ...     ...    ...        ...       ...       ...   \n",
       "3174   5923     1490      8  Москва  smart       True     346.0      50.0   \n",
       "3175   5924     1490      9  Москва  smart       True     322.0      48.0   \n",
       "3176   5925     1490     10  Москва  smart       True     312.0      45.0   \n",
       "3177   5926     1490     11  Москва  smart       True     282.0      47.0   \n",
       "3178   5927     1490     12  Москва  smart       True     290.0      46.0   \n",
       "\n",
       "      gb_used  messages_included  gb_per_month_included  minutes_included  \\\n",
       "8         9.0               1000                     30              3000   \n",
       "9        13.0               1000                     30              3000   \n",
       "10       15.0               1000                     30              3000   \n",
       "11       12.0               1000                     30              3000   \n",
       "12       10.0               1000                     30              3000   \n",
       "...       ...                ...                    ...               ...   \n",
       "3174     17.0                 50                     15               500   \n",
       "3175     15.0                 50                     15               500   \n",
       "3176     21.0                 50                     15               500   \n",
       "3177     19.0                 50                     15               500   \n",
       "3178     16.0                 50                     15               500   \n",
       "\n",
       "      rub_monthly_fee  rub_per_gb  rub_per_message  rub_per_minute  \\\n",
       "8                1950         150                1               1   \n",
       "9                1950         150                1               1   \n",
       "10               1950         150                1               1   \n",
       "11               1950         150                1               1   \n",
       "12               1950         150                1               1   \n",
       "...               ...         ...              ...             ...   \n",
       "3174              550         200                3               3   \n",
       "3175              550         200                3               3   \n",
       "3176              550         200                3               3   \n",
       "3177              550         200                3               3   \n",
       "3178              550         200                3               3   \n",
       "\n",
       "      over_minutes  over_gb  over_messages  total_sum  \n",
       "8              0.0      0.0            0.0     1950.0  \n",
       "9              0.0      0.0            0.0     1950.0  \n",
       "10             0.0      0.0            0.0     1950.0  \n",
       "11             0.0      0.0            0.0     1950.0  \n",
       "12             0.0      0.0            0.0     1950.0  \n",
       "...            ...      ...            ...        ...  \n",
       "3174           0.0      2.0            0.0      950.0  \n",
       "3175           0.0      0.0            0.0      550.0  \n",
       "3176           0.0      6.0            0.0     1750.0  \n",
       "3177           0.0      4.0            0.0     1350.0  \n",
       "3178           0.0      1.0            0.0      750.0  \n",
       "\n",
       "[611 rows x 20 columns]"
      ]
     },
     "execution_count": 67,
     "metadata": {},
     "output_type": "execute_result"
    }
   ],
   "source": [
    "moscow_users = general_users.query('city==\"Москва\"')\n",
    "region_users = general_users.query('city!=\"Москва\"')\n",
    "moscow_users"
   ]
  },
  {
   "cell_type": "code",
   "execution_count": 68,
   "id": "fb883dae-40b3-4928-8f96-959d6a86f433",
   "metadata": {},
   "outputs": [
    {
     "data": {
      "text/html": [
       "<div>\n",
       "<style scoped>\n",
       "    .dataframe tbody tr th:only-of-type {\n",
       "        vertical-align: middle;\n",
       "    }\n",
       "\n",
       "    .dataframe tbody tr th {\n",
       "        vertical-align: top;\n",
       "    }\n",
       "\n",
       "    .dataframe thead th {\n",
       "        text-align: right;\n",
       "    }\n",
       "</style>\n",
       "<table border=\"1\" class=\"dataframe\">\n",
       "  <thead>\n",
       "    <tr style=\"text-align: right;\">\n",
       "      <th></th>\n",
       "      <th>index</th>\n",
       "      <th>user_id</th>\n",
       "      <th>month</th>\n",
       "      <th>city</th>\n",
       "      <th>tariff</th>\n",
       "      <th>is_active</th>\n",
       "      <th>duration</th>\n",
       "      <th>messages</th>\n",
       "      <th>gb_used</th>\n",
       "      <th>messages_included</th>\n",
       "      <th>gb_per_month_included</th>\n",
       "      <th>minutes_included</th>\n",
       "      <th>rub_monthly_fee</th>\n",
       "      <th>rub_per_gb</th>\n",
       "      <th>rub_per_message</th>\n",
       "      <th>rub_per_minute</th>\n",
       "      <th>over_minutes</th>\n",
       "      <th>over_gb</th>\n",
       "      <th>over_messages</th>\n",
       "      <th>total_sum</th>\n",
       "    </tr>\n",
       "  </thead>\n",
       "  <tbody>\n",
       "    <tr>\n",
       "      <th>0</th>\n",
       "      <td>4</td>\n",
       "      <td>1000</td>\n",
       "      <td>5</td>\n",
       "      <td>Краснодар</td>\n",
       "      <td>ultra</td>\n",
       "      <td>True</td>\n",
       "      <td>159.0</td>\n",
       "      <td>22.0</td>\n",
       "      <td>3.0</td>\n",
       "      <td>1000</td>\n",
       "      <td>30</td>\n",
       "      <td>3000</td>\n",
       "      <td>1950</td>\n",
       "      <td>150</td>\n",
       "      <td>1</td>\n",
       "      <td>1</td>\n",
       "      <td>0.0</td>\n",
       "      <td>0.0</td>\n",
       "      <td>0.0</td>\n",
       "      <td>1950.0</td>\n",
       "    </tr>\n",
       "    <tr>\n",
       "      <th>1</th>\n",
       "      <td>5</td>\n",
       "      <td>1000</td>\n",
       "      <td>6</td>\n",
       "      <td>Краснодар</td>\n",
       "      <td>ultra</td>\n",
       "      <td>True</td>\n",
       "      <td>172.0</td>\n",
       "      <td>60.0</td>\n",
       "      <td>23.0</td>\n",
       "      <td>1000</td>\n",
       "      <td>30</td>\n",
       "      <td>3000</td>\n",
       "      <td>1950</td>\n",
       "      <td>150</td>\n",
       "      <td>1</td>\n",
       "      <td>1</td>\n",
       "      <td>0.0</td>\n",
       "      <td>0.0</td>\n",
       "      <td>0.0</td>\n",
       "      <td>1950.0</td>\n",
       "    </tr>\n",
       "    <tr>\n",
       "      <th>2</th>\n",
       "      <td>6</td>\n",
       "      <td>1000</td>\n",
       "      <td>7</td>\n",
       "      <td>Краснодар</td>\n",
       "      <td>ultra</td>\n",
       "      <td>True</td>\n",
       "      <td>340.0</td>\n",
       "      <td>75.0</td>\n",
       "      <td>14.0</td>\n",
       "      <td>1000</td>\n",
       "      <td>30</td>\n",
       "      <td>3000</td>\n",
       "      <td>1950</td>\n",
       "      <td>150</td>\n",
       "      <td>1</td>\n",
       "      <td>1</td>\n",
       "      <td>0.0</td>\n",
       "      <td>0.0</td>\n",
       "      <td>0.0</td>\n",
       "      <td>1950.0</td>\n",
       "    </tr>\n",
       "    <tr>\n",
       "      <th>3</th>\n",
       "      <td>7</td>\n",
       "      <td>1000</td>\n",
       "      <td>8</td>\n",
       "      <td>Краснодар</td>\n",
       "      <td>ultra</td>\n",
       "      <td>True</td>\n",
       "      <td>408.0</td>\n",
       "      <td>81.0</td>\n",
       "      <td>14.0</td>\n",
       "      <td>1000</td>\n",
       "      <td>30</td>\n",
       "      <td>3000</td>\n",
       "      <td>1950</td>\n",
       "      <td>150</td>\n",
       "      <td>1</td>\n",
       "      <td>1</td>\n",
       "      <td>0.0</td>\n",
       "      <td>0.0</td>\n",
       "      <td>0.0</td>\n",
       "      <td>1950.0</td>\n",
       "    </tr>\n",
       "    <tr>\n",
       "      <th>4</th>\n",
       "      <td>8</td>\n",
       "      <td>1000</td>\n",
       "      <td>9</td>\n",
       "      <td>Краснодар</td>\n",
       "      <td>ultra</td>\n",
       "      <td>True</td>\n",
       "      <td>466.0</td>\n",
       "      <td>57.0</td>\n",
       "      <td>15.0</td>\n",
       "      <td>1000</td>\n",
       "      <td>30</td>\n",
       "      <td>3000</td>\n",
       "      <td>1950</td>\n",
       "      <td>150</td>\n",
       "      <td>1</td>\n",
       "      <td>1</td>\n",
       "      <td>0.0</td>\n",
       "      <td>0.0</td>\n",
       "      <td>0.0</td>\n",
       "      <td>1950.0</td>\n",
       "    </tr>\n",
       "    <tr>\n",
       "      <th>...</th>\n",
       "      <td>...</td>\n",
       "      <td>...</td>\n",
       "      <td>...</td>\n",
       "      <td>...</td>\n",
       "      <td>...</td>\n",
       "      <td>...</td>\n",
       "      <td>...</td>\n",
       "      <td>...</td>\n",
       "      <td>...</td>\n",
       "      <td>...</td>\n",
       "      <td>...</td>\n",
       "      <td>...</td>\n",
       "      <td>...</td>\n",
       "      <td>...</td>\n",
       "      <td>...</td>\n",
       "      <td>...</td>\n",
       "      <td>...</td>\n",
       "      <td>...</td>\n",
       "      <td>...</td>\n",
       "      <td>...</td>\n",
       "    </tr>\n",
       "    <tr>\n",
       "      <th>3209</th>\n",
       "      <td>5985</td>\n",
       "      <td>1498</td>\n",
       "      <td>10</td>\n",
       "      <td>Владикавказ</td>\n",
       "      <td>smart</td>\n",
       "      <td>False</td>\n",
       "      <td>247.0</td>\n",
       "      <td>42.0</td>\n",
       "      <td>21.0</td>\n",
       "      <td>50</td>\n",
       "      <td>15</td>\n",
       "      <td>500</td>\n",
       "      <td>550</td>\n",
       "      <td>200</td>\n",
       "      <td>3</td>\n",
       "      <td>3</td>\n",
       "      <td>0.0</td>\n",
       "      <td>6.0</td>\n",
       "      <td>0.0</td>\n",
       "      <td>1750.0</td>\n",
       "    </tr>\n",
       "    <tr>\n",
       "      <th>3210</th>\n",
       "      <td>5996</td>\n",
       "      <td>1499</td>\n",
       "      <td>9</td>\n",
       "      <td>Пермь</td>\n",
       "      <td>smart</td>\n",
       "      <td>True</td>\n",
       "      <td>70.0</td>\n",
       "      <td>11.0</td>\n",
       "      <td>2.0</td>\n",
       "      <td>50</td>\n",
       "      <td>15</td>\n",
       "      <td>500</td>\n",
       "      <td>550</td>\n",
       "      <td>200</td>\n",
       "      <td>3</td>\n",
       "      <td>3</td>\n",
       "      <td>0.0</td>\n",
       "      <td>0.0</td>\n",
       "      <td>0.0</td>\n",
       "      <td>550.0</td>\n",
       "    </tr>\n",
       "    <tr>\n",
       "      <th>3211</th>\n",
       "      <td>5997</td>\n",
       "      <td>1499</td>\n",
       "      <td>10</td>\n",
       "      <td>Пермь</td>\n",
       "      <td>smart</td>\n",
       "      <td>True</td>\n",
       "      <td>449.0</td>\n",
       "      <td>48.0</td>\n",
       "      <td>18.0</td>\n",
       "      <td>50</td>\n",
       "      <td>15</td>\n",
       "      <td>500</td>\n",
       "      <td>550</td>\n",
       "      <td>200</td>\n",
       "      <td>3</td>\n",
       "      <td>3</td>\n",
       "      <td>0.0</td>\n",
       "      <td>3.0</td>\n",
       "      <td>0.0</td>\n",
       "      <td>1150.0</td>\n",
       "    </tr>\n",
       "    <tr>\n",
       "      <th>3212</th>\n",
       "      <td>5998</td>\n",
       "      <td>1499</td>\n",
       "      <td>11</td>\n",
       "      <td>Пермь</td>\n",
       "      <td>smart</td>\n",
       "      <td>True</td>\n",
       "      <td>612.0</td>\n",
       "      <td>59.0</td>\n",
       "      <td>18.0</td>\n",
       "      <td>50</td>\n",
       "      <td>15</td>\n",
       "      <td>500</td>\n",
       "      <td>550</td>\n",
       "      <td>200</td>\n",
       "      <td>3</td>\n",
       "      <td>3</td>\n",
       "      <td>112.0</td>\n",
       "      <td>3.0</td>\n",
       "      <td>9.0</td>\n",
       "      <td>1513.0</td>\n",
       "    </tr>\n",
       "    <tr>\n",
       "      <th>3213</th>\n",
       "      <td>5999</td>\n",
       "      <td>1499</td>\n",
       "      <td>12</td>\n",
       "      <td>Пермь</td>\n",
       "      <td>smart</td>\n",
       "      <td>True</td>\n",
       "      <td>492.0</td>\n",
       "      <td>66.0</td>\n",
       "      <td>13.0</td>\n",
       "      <td>50</td>\n",
       "      <td>15</td>\n",
       "      <td>500</td>\n",
       "      <td>550</td>\n",
       "      <td>200</td>\n",
       "      <td>3</td>\n",
       "      <td>3</td>\n",
       "      <td>0.0</td>\n",
       "      <td>0.0</td>\n",
       "      <td>16.0</td>\n",
       "      <td>598.0</td>\n",
       "    </tr>\n",
       "  </tbody>\n",
       "</table>\n",
       "<p>2603 rows × 20 columns</p>\n",
       "</div>"
      ],
      "text/plain": [
       "      index  user_id  month         city tariff  is_active  duration  \\\n",
       "0         4     1000      5    Краснодар  ultra       True     159.0   \n",
       "1         5     1000      6    Краснодар  ultra       True     172.0   \n",
       "2         6     1000      7    Краснодар  ultra       True     340.0   \n",
       "3         7     1000      8    Краснодар  ultra       True     408.0   \n",
       "4         8     1000      9    Краснодар  ultra       True     466.0   \n",
       "...     ...      ...    ...          ...    ...        ...       ...   \n",
       "3209   5985     1498     10  Владикавказ  smart      False     247.0   \n",
       "3210   5996     1499      9        Пермь  smart       True      70.0   \n",
       "3211   5997     1499     10        Пермь  smart       True     449.0   \n",
       "3212   5998     1499     11        Пермь  smart       True     612.0   \n",
       "3213   5999     1499     12        Пермь  smart       True     492.0   \n",
       "\n",
       "      messages  gb_used  messages_included  gb_per_month_included  \\\n",
       "0         22.0      3.0               1000                     30   \n",
       "1         60.0     23.0               1000                     30   \n",
       "2         75.0     14.0               1000                     30   \n",
       "3         81.0     14.0               1000                     30   \n",
       "4         57.0     15.0               1000                     30   \n",
       "...        ...      ...                ...                    ...   \n",
       "3209      42.0     21.0                 50                     15   \n",
       "3210      11.0      2.0                 50                     15   \n",
       "3211      48.0     18.0                 50                     15   \n",
       "3212      59.0     18.0                 50                     15   \n",
       "3213      66.0     13.0                 50                     15   \n",
       "\n",
       "      minutes_included  rub_monthly_fee  rub_per_gb  rub_per_message  \\\n",
       "0                 3000             1950         150                1   \n",
       "1                 3000             1950         150                1   \n",
       "2                 3000             1950         150                1   \n",
       "3                 3000             1950         150                1   \n",
       "4                 3000             1950         150                1   \n",
       "...                ...              ...         ...              ...   \n",
       "3209               500              550         200                3   \n",
       "3210               500              550         200                3   \n",
       "3211               500              550         200                3   \n",
       "3212               500              550         200                3   \n",
       "3213               500              550         200                3   \n",
       "\n",
       "      rub_per_minute  over_minutes  over_gb  over_messages  total_sum  \n",
       "0                  1           0.0      0.0            0.0     1950.0  \n",
       "1                  1           0.0      0.0            0.0     1950.0  \n",
       "2                  1           0.0      0.0            0.0     1950.0  \n",
       "3                  1           0.0      0.0            0.0     1950.0  \n",
       "4                  1           0.0      0.0            0.0     1950.0  \n",
       "...              ...           ...      ...            ...        ...  \n",
       "3209               3           0.0      6.0            0.0     1750.0  \n",
       "3210               3           0.0      0.0            0.0      550.0  \n",
       "3211               3           0.0      3.0            0.0     1150.0  \n",
       "3212               3         112.0      3.0            9.0     1513.0  \n",
       "3213               3           0.0      0.0           16.0      598.0  \n",
       "\n",
       "[2603 rows x 20 columns]"
      ]
     },
     "execution_count": 68,
     "metadata": {},
     "output_type": "execute_result"
    }
   ],
   "source": [
    "region_users"
   ]
  },
  {
   "cell_type": "code",
   "execution_count": 69,
   "id": "4bac76e0-e01d-4402-aaa1-f09ab4c5cfeb",
   "metadata": {},
   "outputs": [
    {
     "data": {
      "image/png": "[encoded data removed]",
      "text/plain": [
       "<Figure size 1000x500 with 1 Axes>"
      ]
     },
     "metadata": {},
     "output_type": "display_data"
    },
    {
     "data": {
      "image/png": "[encoded data removed]",
      "text/plain": [
       "<Figure size 1000x500 with 1 Axes>"
      ]
     },
     "metadata": {},
     "output_type": "display_data"
    },
    {
     "data": {
      "image/png": "[encoded data removed]",
      "text/plain": [
       "<Figure size 1000x500 with 1 Axes>"
      ]
     },
     "metadata": {},
     "output_type": "display_data"
    },
    {
     "data": {
      "image/png": "[encoded data removed]",
      "text/plain": [
       "<Figure size 1000x500 with 1 Axes>"
      ]
     },
     "metadata": {},
     "output_type": "display_data"
    }
   ],
   "source": [
    "moscow_users['duration'].plot(kind = 'hist', figsize = (10,5), grid = True, title = 'minutes')\n",
    "region_users['duration'].plot(kind = 'hist', figsize = (10,5), grid = True, title = 'minutes',alpha =0.7)\n",
    "plt.pyplot.show()\n",
    "\n",
    "\n",
    "moscow_users['gb_used'].plot(kind = 'hist', figsize = (10,5), grid = True, title = 'gb_used')\n",
    "region_users['gb_used'].plot(kind = 'hist', figsize = (10,5), grid = True, title = 'gb_used',alpha =0.7)\n",
    "plt.pyplot.show()\n",
    "\n",
    "\n",
    "moscow_users['messages'].plot(kind = 'hist', figsize = (10,5), grid = True, title = 'messages')\n",
    "region_users['messages'].plot(kind = 'hist', figsize = (10,5), grid = True, title = 'messages',alpha =0.7)\n",
    "plt.pyplot.show()\n",
    "\n",
    "\n",
    "moscow_users['total_sum'].plot(kind = 'hist', figsize = (10,5), grid = True, title = 'total_sum')\n",
    "region_users['total_sum'].plot(kind = 'hist', figsize = (10,5), grid = True, title = 'total_sum',alpha =0.7)\n",
    "plt.pyplot.show()\n",
    "\n"
   ]
  },
  {
   "cell_type": "markdown",
   "id": "96f77af3-f265-44e3-bcac-7b67741c1f79",
   "metadata": {},
   "source": [
    "## Выводы\r\n",
    "1. Пользователи тарифа ультра покупают тариф из-за потребности в гб(так как ни по одному из других ограничений нет превышений), при этом и те и другие пользователи чаще всего используют от 15 до 20 гб интернета. \r\n",
    "2. Пользователи тарифа смарт значительно чаще превышают тарифные границы и по звонкам и по смс и по использованным гб, чем пользователи тарифа ультра. \r\n",
    "3. Пользовательское поведение Москвичей похоже на пользовательское поведение клиентов из других регионов.\r\n",
    "\r\n",
    "Гипотезы для проверки: \r\n",
    "1. Средняя выручка пользовтелей тариффа смарт отличается от средней выручки пользователей тариффа ультра. \r\n",
    "2. Средняя выручка пользовтелей из Москвы отличается от средней выручки пользователей из других регионов."
   ]
  },
  {
   "cell_type": "markdown",
   "id": "92730b0c-6223-4283-84a3-3a24c6fab251",
   "metadata": {},
   "source": [
    "## Проверка гипотез"
   ]
  },
  {
   "cell_type": "markdown",
   "id": "083afe80-1239-40ad-b142-7b5df4eac132",
   "metadata": {},
   "source": [
    "Гипотеза 1. \r\n",
    "Средний чек пользователей тарифа ультра отличается от среднего чека пользователей тарифа смарт. \r\n",
    "<p>Нулевая гипотеза: среднее двух независимых генеральных совокупностей равны, то есть средний чек обоих тарифов одинаковый.</p>\r\n",
    "<p>Альтернативныя гипотеза: Средние чеки различаются. \r\n",
    "<p>Статистическую значимость возьмем за 0.01"
   ]
  },
  {
   "cell_type": "code",
   "execution_count": 70,
   "id": "252be294-51a3-4f54-b82a-3b4690ced898",
   "metadata": {},
   "outputs": [
    {
     "name": "stdout",
     "output_type": "stream",
     "text": [
      "1.4229814360764067e-160\n",
      "Отвергаем нулевую гипотезу\n"
     ]
    },
    {
     "data": {
      "image/png": "[encoded data removed]",
      "text/plain": [
       "<Figure size 640x480 with 1 Axes>"
      ]
     },
     "metadata": {},
     "output_type": "display_data"
    }
   ],
   "source": [
    "alpha = 0.01\n",
    "\n",
    "results = st.ttest_ind(general_ultra['total_sum'], general_smart['total_sum'])\n",
    "print(results.pvalue)\n",
    "if results.pvalue<alpha:\n",
    "    print(\"Отвергаем нулевую гипотезу\")\n",
    "else:\n",
    "    print(\"Не получилось отвергнуть нулевую гипотезу\")\n",
    "    \n",
    "general_smart['total_sum'].plot(grid = True, kind = 'hist', title = 'Выручка')\n",
    "general_ultra['total_sum'].plot(grid = True, kind = 'hist', title = 'Выручка')\n",
    "plt.pyplot.show()\n"
   ]
  },
  {
   "cell_type": "markdown",
   "id": "16ab3b39-85e9-4421-8671-cf9abc9a1857",
   "metadata": {},
   "source": [
    "Как, следствие, делаем вывод, что средние чеки различаются. На основании приведенных выше данных можно предположить, что средний чек пользователей тарифа \"Ультра\" больше, чем средний чек пользователей \"Смарт\". "
   ]
  },
  {
   "cell_type": "markdown",
   "id": "8ae4886d-70a4-41ae-87ab-ea420b98e51c",
   "metadata": {},
   "source": [
    "Гипотеза 2. \n",
    "Средний чек пользователей из Москвы отличается от среднего чека пользователей из регионов.\n",
    "<p> Нулевая гипотеза: средний чек пользователей из Москвы равен среднему чеку пользователю из региона.\n",
    "    <p> Альтернативная гипотеза: средний чек пользователя из Москвы отличается от среднего чека пользователя из региона\n",
    "       \n"
   ]
  },
  {
   "cell_type": "code",
   "execution_count": 71,
   "id": "c5c2ccc9-3686-42d5-9ac2-213d32feae56",
   "metadata": {},
   "outputs": [
    {
     "name": "stdout",
     "output_type": "stream",
     "text": [
      "0.5257376663729298\n",
      "Не получилось отвергнуть нулевую гипотезу\n"
     ]
    },
    {
     "data": {
      "image/png": "[encoded data removed]",
      "text/plain": [
       "<Figure size 1000x500 with 1 Axes>"
      ]
     },
     "metadata": {},
     "output_type": "display_data"
    }
   ],
   "source": [
    "alpha = 0.01\n",
    "\n",
    "results_2 = st.ttest_ind(region_users['total_sum'],moscow_users['total_sum'],equal_var = False)\n",
    "\n",
    "print(results_2.pvalue)\n",
    "if results_2.pvalue<alpha:\n",
    "    print('Отвергаем нулевую гипотезу')\n",
    "else:\n",
    "    print('Не получилось отвергнуть нулевую гипотезу')\n",
    "    \n",
    "moscow_users['total_sum'].plot(kind = 'hist', figsize = (10,5), grid = True, title = 'total_sum')\n",
    "region_users['total_sum'].plot(kind = 'hist', figsize = (10,5), grid = True, title = 'total_sum',alpha =0.7)\n",
    "plt.pyplot.show()"
   ]
  },
  {
   "cell_type": "markdown",
   "id": "750af4af-a0c5-4421-bed4-5fbf5adb2d6b",
   "metadata": {},
   "source": [
    "Вероятность получить среднее значение 50 и выше! Как следствие, на основании представленных данных, нельзя отвергнуть гипотезу о том, что средний чек Москвича равен среднему чеку клиента из региона. "
   ]
  },
  {
   "cell_type": "markdown",
   "id": "58a59183-6360-46d3-8faf-44551c341c3d",
   "metadata": {},
   "source": [
    "# Вывод"
   ]
  },
  {
   "cell_type": "markdown",
   "id": "798a10cd-57fd-420c-a389-97fa79b7fc45",
   "metadata": {},
   "source": [
    "## Описание данных"
   ]
  },
  {
   "cell_type": "markdown",
   "id": "c127881b-9c86-419d-88ad-2e8eee600146",
   "metadata": {},
   "source": [
    "Данные были представлены в пяти различных таблицах, содержащих значения о длительности совершенных звонков, сессиях передачи данных и количестве отправленных смс по 500 клиентам компании. Также содержались значения о правилах тарификации и региональной принадлежности клиента. \r\n",
    "Пропусков данных практически не было, в рамках предобработки были изменены тип значений по некоторым столцам."
   ]
  },
  {
   "cell_type": "markdown",
   "id": "b5c96636-eee6-44e9-a24e-9faf2976188b",
   "metadata": {},
   "source": [
    "## Итоги исследования"
   ]
  },
  {
   "cell_type": "markdown",
   "id": "7d173d14-be32-4033-afd7-63ef6d4453c1",
   "metadata": {},
   "source": [
    "На основании изученных данных можно сделать предположение, что тариф Ультра более выгоден компании, чем тариф Смарт, так как средний чек за месяц выше, при условии, что тарифы имеют одинаковую рентабельность за предоставленные минуты, смс и траффик. \r\n",
    "Также, можно сделать предположение, что средние чеки клиента из региона и клиента из Москвы незначительно отличаются между собой. "
   ]
  }
 ],
 "metadata": {
  "kernelspec": {
   "display_name": "Python 3 (ipykernel)",
   "language": "python",
   "name": "python3"
  },
  "language_info": {
   "codemirror_mode": {
    "name": "ipython",
    "version": 3
   },
   "file_extension": ".py",
   "mimetype": "text/x-python",
   "name": "python",
   "nbconvert_exporter": "python",
   "pygments_lexer": "ipython3",
   "version": "3.11.7"
  }
 },
 "nbformat": 4,
 "nbformat_minor": 5
}
